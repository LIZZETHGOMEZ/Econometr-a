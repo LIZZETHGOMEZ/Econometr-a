{
  "nbformat": 4,
  "nbformat_minor": 0,
  "metadata": {
    "colab": {
      "name": "Copy of Copy of Copy of Trabajo Final_Econometría.ipynb",
      "provenance": [],
      "collapsed_sections": [],
      "include_colab_link": true
    },
    "kernelspec": {
      "name": "python3",
      "display_name": "Python 3"
    }
  },
  "cells": [
    {
      "cell_type": "markdown",
      "metadata": {
        "id": "view-in-github",
        "colab_type": "text"
      },
      "source": [
        "<a href=\"https://colab.research.google.com/github/LIZZETHGOMEZ/Econometria_/blob/School/Codigo%20para%20profe.ipynb\" target=\"_parent\"><img src=\"https://colab.research.google.com/assets/colab-badge.svg\" alt=\"Open In Colab\"/></a>"
      ]
    },
    {
      "cell_type": "markdown",
      "metadata": {
        "id": "dCEjzKyjBXfv",
        "colab_type": "text"
      },
      "source": [
        "#ECONOMETRÍA\n",
        "##Trabajo Final\n",
        "* ### Cuenca Fitz Alexis Manuel\n",
        "* ### Gomez Rodríguez Lizzeth\n",
        "* ### Pineda Sandoval Tania Jocelyn\n",
        "\n",
        "\n"
      ]
    },
    {
      "cell_type": "markdown",
      "metadata": {
        "id": "Ty7nMrdjsEVI",
        "colab_type": "text"
      },
      "source": [
        "La base de datos a utilizar es la **ESRU-EMOVI 2017** que es una Encuesta de Movilidad Social del Centro de Estudios Espinosa Yglesias (CEEY), que se puede encontrar en la siguiente liga junto con el cuestionario: https://ceey.org.mx/contenido/que-hacemos/emovi/"
      ]
    },
    {
      "cell_type": "code",
      "metadata": {
        "id": "7J63cleQB6Lv",
        "colab_type": "code",
        "colab": {}
      },
      "source": [
        "#Instalamos las paqueterías necesarias\n",
        "!pip install pyreadstat\n",
        "!pip install statsmodels"
      ],
      "execution_count": 0,
      "outputs": []
    },
    {
      "cell_type": "code",
      "metadata": {
        "id": "mEKSupmIm5u0",
        "colab_type": "code",
        "outputId": "435bf0eb-ddcf-43a3-bef1-095a6d6a85a7",
        "colab": {
          "base_uri": "https://localhost:8080/",
          "height": 71
        }
      },
      "source": [
        "#Importamos las librerías a utilizar\n",
        "import pyreadstat #librería para leer  formato.dta\n",
        "import pandas as pd #librería para manipulación de datos\n",
        "import matplotlib #librería para graficar\n",
        "from matplotlib import pyplot as plt #librería para graficar\n",
        "\n",
        "import statsmodels.api as sm #librería para análisis estadístico\n",
        "from scipy import stats\n",
        "import matplotlib.pyplot as plt\n",
        "import statsmodels.api as sm\n",
        "from statsmodels.formula.api import logit\n",
        "from statsmodels.iolib.summary2 import summary_col"
      ],
      "execution_count": 5,
      "outputs": [
        {
          "output_type": "stream",
          "text": [
            "/usr/local/lib/python3.6/dist-packages/statsmodels/tools/_testing.py:19: FutureWarning: pandas.util.testing is deprecated. Use the functions in the public API at pandas.testing instead.\n",
            "  import pandas.util.testing as tm\n"
          ],
          "name": "stderr"
        }
      ]
    },
    {
      "cell_type": "code",
      "metadata": {
        "id": "IXMwGxY6pw9J",
        "colab_type": "code",
        "colab": {}
      },
      "source": [
        "#Leemos la base de datos\n",
        "emovi = pd.read_csv('Emovi.csv')"
      ],
      "execution_count": 0,
      "outputs": []
    },
    {
      "cell_type": "code",
      "metadata": {
        "id": "3mde65D3HW3i",
        "colab_type": "code",
        "colab": {}
      },
      "source": [
        "emovi.head()"
      ],
      "execution_count": 0,
      "outputs": []
    },
    {
      "cell_type": "code",
      "metadata": {
        "id": "0BdAy92WLK3G",
        "colab_type": "code",
        "colab": {}
      },
      "source": [
        "emovi.describe()"
      ],
      "execution_count": 0,
      "outputs": []
    },
    {
      "cell_type": "code",
      "metadata": {
        "id": "jESQS1jl7nDB",
        "colab_type": "code",
        "colab": {}
      },
      "source": [
        "print(emovi.p150e)"
      ],
      "execution_count": 0,
      "outputs": []
    },
    {
      "cell_type": "code",
      "metadata": {
        "id": "Kq_X9lCD-yVA",
        "colab_type": "code",
        "colab": {}
      },
      "source": [
        "#Aquí paso la variable p150e a valores numericos 0 y 1\n",
        "emovi= pd.get_dummies(emovi, columns=[\"p150e\"],drop_first = True)"
      ],
      "execution_count": 0,
      "outputs": []
    },
    {
      "cell_type": "code",
      "metadata": {
        "id": "mZd1jQjhETRF",
        "colab_type": "code",
        "outputId": "bc841f15-4673-4333-c793-40452e7906cd",
        "colab": {
          "base_uri": "https://localhost:8080/",
          "height": 297
        }
      },
      "source": [
        "emovi.describe()"
      ],
      "execution_count": 61,
      "outputs": [
        {
          "output_type": "execute_result",
          "data": {
            "text/html": [
              "<div>\n",
              "<style scoped>\n",
              "    .dataframe tbody tr th:only-of-type {\n",
              "        vertical-align: middle;\n",
              "    }\n",
              "\n",
              "    .dataframe tbody tr th {\n",
              "        vertical-align: top;\n",
              "    }\n",
              "\n",
              "    .dataframe thead th {\n",
              "        text-align: right;\n",
              "    }\n",
              "</style>\n",
              "<table border=\"1\" class=\"dataframe\">\n",
              "  <thead>\n",
              "    <tr style=\"text-align: right;\">\n",
              "      <th></th>\n",
              "      <th>p05</th>\n",
              "      <th>p150e_1</th>\n",
              "      <th>p150e_2</th>\n",
              "      <th>p150e_3</th>\n",
              "      <th>p150e_4</th>\n",
              "      <th>p150e_5</th>\n",
              "      <th>p150e_6</th>\n",
              "      <th>p150e_Sí</th>\n",
              "    </tr>\n",
              "  </thead>\n",
              "  <tbody>\n",
              "    <tr>\n",
              "      <th>count</th>\n",
              "      <td>17665.000000</td>\n",
              "      <td>114.0</td>\n",
              "      <td>88.0</td>\n",
              "      <td>65.0</td>\n",
              "      <td>51.0</td>\n",
              "      <td>128.0</td>\n",
              "      <td>37.0</td>\n",
              "      <td>17665.000000</td>\n",
              "    </tr>\n",
              "    <tr>\n",
              "      <th>mean</th>\n",
              "      <td>43.636569</td>\n",
              "      <td>1.0</td>\n",
              "      <td>2.0</td>\n",
              "      <td>3.0</td>\n",
              "      <td>4.0</td>\n",
              "      <td>5.0</td>\n",
              "      <td>6.0</td>\n",
              "      <td>0.019757</td>\n",
              "    </tr>\n",
              "    <tr>\n",
              "      <th>std</th>\n",
              "      <td>12.000790</td>\n",
              "      <td>0.0</td>\n",
              "      <td>0.0</td>\n",
              "      <td>0.0</td>\n",
              "      <td>0.0</td>\n",
              "      <td>0.0</td>\n",
              "      <td>0.0</td>\n",
              "      <td>0.139167</td>\n",
              "    </tr>\n",
              "    <tr>\n",
              "      <th>min</th>\n",
              "      <td>25.000000</td>\n",
              "      <td>1.0</td>\n",
              "      <td>2.0</td>\n",
              "      <td>3.0</td>\n",
              "      <td>4.0</td>\n",
              "      <td>5.0</td>\n",
              "      <td>6.0</td>\n",
              "      <td>0.000000</td>\n",
              "    </tr>\n",
              "    <tr>\n",
              "      <th>25%</th>\n",
              "      <td>34.000000</td>\n",
              "      <td>1.0</td>\n",
              "      <td>2.0</td>\n",
              "      <td>3.0</td>\n",
              "      <td>4.0</td>\n",
              "      <td>5.0</td>\n",
              "      <td>6.0</td>\n",
              "      <td>0.000000</td>\n",
              "    </tr>\n",
              "    <tr>\n",
              "      <th>50%</th>\n",
              "      <td>43.000000</td>\n",
              "      <td>1.0</td>\n",
              "      <td>2.0</td>\n",
              "      <td>3.0</td>\n",
              "      <td>4.0</td>\n",
              "      <td>5.0</td>\n",
              "      <td>6.0</td>\n",
              "      <td>0.000000</td>\n",
              "    </tr>\n",
              "    <tr>\n",
              "      <th>75%</th>\n",
              "      <td>54.000000</td>\n",
              "      <td>1.0</td>\n",
              "      <td>2.0</td>\n",
              "      <td>3.0</td>\n",
              "      <td>4.0</td>\n",
              "      <td>5.0</td>\n",
              "      <td>6.0</td>\n",
              "      <td>0.000000</td>\n",
              "    </tr>\n",
              "    <tr>\n",
              "      <th>max</th>\n",
              "      <td>64.000000</td>\n",
              "      <td>1.0</td>\n",
              "      <td>2.0</td>\n",
              "      <td>3.0</td>\n",
              "      <td>4.0</td>\n",
              "      <td>5.0</td>\n",
              "      <td>6.0</td>\n",
              "      <td>1.000000</td>\n",
              "    </tr>\n",
              "  </tbody>\n",
              "</table>\n",
              "</div>"
            ],
            "text/plain": [
              "                p05  p150e_1  p150e_2  ...  p150e_5  p150e_6      p150e_Sí\n",
              "count  17665.000000    114.0     88.0  ...    128.0     37.0  17665.000000\n",
              "mean      43.636569      1.0      2.0  ...      5.0      6.0      0.019757\n",
              "std       12.000790      0.0      0.0  ...      0.0      0.0      0.139167\n",
              "min       25.000000      1.0      2.0  ...      5.0      6.0      0.000000\n",
              "25%       34.000000      1.0      2.0  ...      5.0      6.0      0.000000\n",
              "50%       43.000000      1.0      2.0  ...      5.0      6.0      0.000000\n",
              "75%       54.000000      1.0      2.0  ...      5.0      6.0      0.000000\n",
              "max       64.000000      1.0      2.0  ...      5.0      6.0      1.000000\n",
              "\n",
              "[8 rows x 8 columns]"
            ]
          },
          "metadata": {
            "tags": []
          },
          "execution_count": 61
        }
      ]
    },
    {
      "cell_type": "markdown",
      "metadata": {
        "id": "ADY7IUKXeTn7",
        "colab_type": "text"
      },
      "source": [
        "#Primera Duda"
      ]
    },
    {
      "cell_type": "code",
      "metadata": {
        "id": "toisDIdOZfPm",
        "colab_type": "code",
        "colab": {
          "base_uri": "https://localhost:8080/",
          "height": 221
        },
        "outputId": "8a797e03-ed8a-4964-a3c6-914c2876c3c6"
      },
      "source": [
        "print(emovi.p150e_Sí)\n",
        "#Aquí me gustaría tabular la misma variable pero únicamente los valores iguales a 1"
      ],
      "execution_count": 62,
      "outputs": [
        {
          "output_type": "stream",
          "text": [
            "0        0\n",
            "1        0\n",
            "2        0\n",
            "3        0\n",
            "4        0\n",
            "        ..\n",
            "17660    1\n",
            "17661    0\n",
            "17662    0\n",
            "17663    0\n",
            "17664    0\n",
            "Name: p150e_Sí, Length: 17665, dtype: uint8\n"
          ],
          "name": "stdout"
        }
      ]
    },
    {
      "cell_type": "markdown",
      "metadata": {
        "id": "HBNvIY8XeXSf",
        "colab_type": "text"
      },
      "source": [
        "#Segunda Duda"
      ]
    },
    {
      "cell_type": "code",
      "metadata": {
        "id": "Un4vRx92YCPb",
        "colab_type": "code",
        "colab": {}
      },
      "source": [
        "#Aquí renombro las variables\n",
        "emovi.rename(columns={'p05':'edad','p06':'sexo','p13':'escolaridad','p102':'empleo','p133':'ingreso','p150e_1':'dis_trabajo','p150e_2':'dis_escuela','p150e_3':'dis_oficina','p150e_4':'dis_hogar','p150e_5':'dis_barrio','p150e_6':'dis_otro','p151':'color','r579on':'region','rurur2':'rurur','p150e_Sí':'Discriminacion'})"
      ],
      "execution_count": 0,
      "outputs": []
    },
    {
      "cell_type": "code",
      "metadata": {
        "id": "M-0CHq6zYkOw",
        "colab_type": "code",
        "colab": {
          "base_uri": "https://localhost:8080/",
          "height": 299
        },
        "outputId": "f8b2455b-d429-4978-f515-60aa63c796aa"
      },
      "source": [
        "#Ahora quiero usar las variables renombradas, pero no me deja, por ejemplo:\n",
        "print(emovi.edad)\n"
      ],
      "execution_count": 63,
      "outputs": [
        {
          "output_type": "error",
          "ename": "AttributeError",
          "evalue": "ignored",
          "traceback": [
            "\u001b[0;31m---------------------------------------------------------------------------\u001b[0m",
            "\u001b[0;31mAttributeError\u001b[0m                            Traceback (most recent call last)",
            "\u001b[0;32m<ipython-input-63-47be6b050c6c>\u001b[0m in \u001b[0;36m<module>\u001b[0;34m()\u001b[0m\n\u001b[1;32m      1\u001b[0m \u001b[0;31m#Ahora quiero usar las variables renombradas, pero no me deja, por ejemplo:\u001b[0m\u001b[0;34m\u001b[0m\u001b[0;34m\u001b[0m\u001b[0;34m\u001b[0m\u001b[0m\n\u001b[0;32m----> 2\u001b[0;31m \u001b[0mprint\u001b[0m\u001b[0;34m(\u001b[0m\u001b[0memovi\u001b[0m\u001b[0;34m.\u001b[0m\u001b[0medad\u001b[0m\u001b[0;34m)\u001b[0m\u001b[0;34m\u001b[0m\u001b[0;34m\u001b[0m\u001b[0m\n\u001b[0m",
            "\u001b[0;32m/usr/local/lib/python3.6/dist-packages/pandas/core/generic.py\u001b[0m in \u001b[0;36m__getattr__\u001b[0;34m(self, name)\u001b[0m\n\u001b[1;32m   5272\u001b[0m             \u001b[0;32mif\u001b[0m \u001b[0mself\u001b[0m\u001b[0;34m.\u001b[0m\u001b[0m_info_axis\u001b[0m\u001b[0;34m.\u001b[0m\u001b[0m_can_hold_identifiers_and_holds_name\u001b[0m\u001b[0;34m(\u001b[0m\u001b[0mname\u001b[0m\u001b[0;34m)\u001b[0m\u001b[0;34m:\u001b[0m\u001b[0;34m\u001b[0m\u001b[0;34m\u001b[0m\u001b[0m\n\u001b[1;32m   5273\u001b[0m                 \u001b[0;32mreturn\u001b[0m \u001b[0mself\u001b[0m\u001b[0;34m[\u001b[0m\u001b[0mname\u001b[0m\u001b[0;34m]\u001b[0m\u001b[0;34m\u001b[0m\u001b[0;34m\u001b[0m\u001b[0m\n\u001b[0;32m-> 5274\u001b[0;31m             \u001b[0;32mreturn\u001b[0m \u001b[0mobject\u001b[0m\u001b[0;34m.\u001b[0m\u001b[0m__getattribute__\u001b[0m\u001b[0;34m(\u001b[0m\u001b[0mself\u001b[0m\u001b[0;34m,\u001b[0m \u001b[0mname\u001b[0m\u001b[0;34m)\u001b[0m\u001b[0;34m\u001b[0m\u001b[0;34m\u001b[0m\u001b[0m\n\u001b[0m\u001b[1;32m   5275\u001b[0m \u001b[0;34m\u001b[0m\u001b[0m\n\u001b[1;32m   5276\u001b[0m     \u001b[0;32mdef\u001b[0m \u001b[0m__setattr__\u001b[0m\u001b[0;34m(\u001b[0m\u001b[0mself\u001b[0m\u001b[0;34m,\u001b[0m \u001b[0mname\u001b[0m\u001b[0;34m:\u001b[0m \u001b[0mstr\u001b[0m\u001b[0;34m,\u001b[0m \u001b[0mvalue\u001b[0m\u001b[0;34m)\u001b[0m \u001b[0;34m->\u001b[0m \u001b[0;32mNone\u001b[0m\u001b[0;34m:\u001b[0m\u001b[0;34m\u001b[0m\u001b[0;34m\u001b[0m\u001b[0m\n",
            "\u001b[0;31mAttributeError\u001b[0m: 'DataFrame' object has no attribute 'edad'"
          ]
        }
      ]
    },
    {
      "cell_type": "code",
      "metadata": {
        "id": "exICRCeQZA7f",
        "colab_type": "code",
        "colab": {
          "base_uri": "https://localhost:8080/",
          "height": 221
        },
        "outputId": "1d4133de-bca7-47aa-ca7f-8355f890ad51"
      },
      "source": [
        "#Mismo comando con nombres anteriores si jala, entonces no me las está renombrando, cómo corrijo esto?\n",
        "print(emovi.p05)"
      ],
      "execution_count": 64,
      "outputs": [
        {
          "output_type": "stream",
          "text": [
            "0        64\n",
            "1        60\n",
            "2        64\n",
            "3        63\n",
            "4        64\n",
            "         ..\n",
            "17660    39\n",
            "17661    44\n",
            "17662    32\n",
            "17663    31\n",
            "17664    52\n",
            "Name: p05, Length: 17665, dtype: int64\n"
          ],
          "name": "stdout"
        }
      ]
    }
  ]
}