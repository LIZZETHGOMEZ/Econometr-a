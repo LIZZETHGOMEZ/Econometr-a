{
  "nbformat": 4,
  "nbformat_minor": 0,
  "metadata": {
    "colab": {
      "name": "Copy of Trabajo Final_Econometría.ipynb",
      "provenance": [],
      "include_colab_link": true
    },
    "kernelspec": {
      "name": "python3",
      "display_name": "Python 3"
    }
  },
  "cells": [
    {
      "cell_type": "markdown",
      "metadata": {
        "id": "view-in-github",
        "colab_type": "text"
      },
      "source": [
        "<a href=\"https://colab.research.google.com/github/LIZZETHGOMEZ/Econometria_/blob/School/Copy_of_Trabajo_Final_Econometr%C3%ADa.ipynb\" target=\"_parent\"><img src=\"https://colab.research.google.com/assets/colab-badge.svg\" alt=\"Open In Colab\"/></a>"
      ]
    },
    {
      "cell_type": "markdown",
      "metadata": {
        "id": "dCEjzKyjBXfv",
        "colab_type": "text"
      },
      "source": [
        "#ECONOMETRÍA\n",
        "##Trabajo Final\n",
        "* ### Cuenca Fitz Alexis Manuel\n",
        "* ### Gomez Rodríguez Lizzeth\n",
        "* ### Pineda Jocelyn\n",
        "\n"
      ]
    },
    {
      "cell_type": "code",
      "metadata": {
        "id": "7J63cleQB6Lv",
        "colab_type": "code",
        "colab": {}
      },
      "source": [
        "#Instalamos las paqueterías necesarias\n",
        "!pip install pyreadstat\n",
        "!pip install statsmodels"
      ],
      "execution_count": 0,
      "outputs": []
    },
    {
      "cell_type": "code",
      "metadata": {
        "id": "mEKSupmIm5u0",
        "colab_type": "code",
        "colab": {}
      },
      "source": [
        "#Importamos las librerías a utilizar\n",
        "import pyreadstat #librería para leer  formato.dta\n",
        "import pandas as pd #librería para manipulación de datos\n",
        "import matplotlib #librería para graficar\n",
        "from matplotlib import pyplot as plt #librería para graficar\n",
        "import statsmodels.api as sm #librería para análisis estadístico"
      ],
      "execution_count": 0,
      "outputs": []
    }
  ]
}