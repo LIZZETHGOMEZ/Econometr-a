{
  "nbformat": 4,
  "nbformat_minor": 0,
  "metadata": {
    "colab": {
      "name": "Copy of Copy of Trabajo Final_Econometría.ipynb",
      "provenance": [],
      "collapsed_sections": [],
      "include_colab_link": true
    },
    "kernelspec": {
      "name": "python3",
      "display_name": "Python 3"
    }
  },
  "cells": [
    {
      "cell_type": "markdown",
      "metadata": {
        "id": "view-in-github",
        "colab_type": "text"
      },
      "source": [
        "<a href=\"https://colab.research.google.com/github/LIZZETHGOMEZ/Econometria_/blob/School/Entrega%20para%20Joce%20y%20Fitz.ipynb\" target=\"_parent\"><img src=\"https://colab.research.google.com/assets/colab-badge.svg\" alt=\"Open In Colab\"/></a>"
      ]
    },
    {
      "cell_type": "markdown",
      "metadata": {
        "id": "dCEjzKyjBXfv",
        "colab_type": "text"
      },
      "source": [
        "#ECONOMETRÍA\n",
        "##Trabajo Final\n",
        "* ### Cuenca Fitz Alexis Manuel\n",
        "* ### Gomez Rodríguez Lizzeth\n",
        "* ### Pineda Sandoval Tania Jocelyn\n",
        "\n",
        "\n"
      ]
    },
    {
      "cell_type": "markdown",
      "metadata": {
        "id": "Ty7nMrdjsEVI",
        "colab_type": "text"
      },
      "source": [
        "La base de datos a utilizar es la **ESRU-EMOVI 2017** que es una Encuesta de Movilidad Social del Centro de Estudios Espinosa Yglesias (CEEY), que se puede encontrar en la siguiente liga kjunto con el cuestionario: https://ceey.org.mx/contenido/que-hacemos/emovi"
      ]
    },
    {
      "cell_type": "code",
      "metadata": {
        "id": "7J63cleQB6Lv",
        "colab_type": "code",
        "colab": {}
      },
      "source": [
        "#Instalamos las paqueterías necesarias\n",
        "!pip install pyreadstat\n",
        "!pip install statsmodels\n",
        "!pip install pandas plotnine\n",
        "!pip install tabulate\n",
        "!pip install numpy"
      ],
      "execution_count": 0,
      "outputs": []
    },
    {
      "cell_type": "code",
      "metadata": {
        "id": "mEKSupmIm5u0",
        "colab_type": "code",
        "colab": {}
      },
      "source": [
        "#Importamos las librerías a utilizar\n",
        "import pyreadstat #librería para leer  formato.dta\n",
        "import pandas as pd #librería para manipulación de datos\n",
        "import matplotlib #librería para graficar\n",
        "from matplotlib import pyplot as plt #librería para graficar\n",
        "\n",
        "\n",
        "import statsmodels.api as sm #librería para análisis estadístico\n",
        "from scipy import stats\n",
        "import matplotlib.pyplot as plt\n",
        "import statsmodels.api as sm\n",
        "from statsmodels.formula.api import logit\n",
        "from statsmodels.iolib.summary2 import summary_col\n",
        "\n",
        "from tabulate import  tabulate\n"
      ],
      "execution_count": 0,
      "outputs": []
    },
    {
      "cell_type": "code",
      "metadata": {
        "id": "K-CZcdFZi0q8",
        "colab_type": "code",
        "colab": {}
      },
      "source": [
        "import pandas as pd\n",
        "import numpy as np\n",
        "from pandas.api.types import CategoricalDtype\n",
        "from plotnine import *\n",
        "from plotnine.data import mpg"
      ],
      "execution_count": 0,
      "outputs": []
    },
    {
      "cell_type": "code",
      "metadata": {
        "id": "h5_--sDMi2Ut",
        "colab_type": "code",
        "colab": {}
      },
      "source": [
        "%matplotlib inline\n",
        "import pylab as pl"
      ],
      "execution_count": 0,
      "outputs": []
    },
    {
      "cell_type": "code",
      "metadata": {
        "id": "zu-l4P93W7em",
        "colab_type": "code",
        "colab": {}
      },
      "source": [
        "import warnings\n",
        "warnings.filterwarnings('ignore')\n",
        "from plotnine import *"
      ],
      "execution_count": 0,
      "outputs": []
    },
    {
      "cell_type": "code",
      "metadata": {
        "id": "IXMwGxY6pw9J",
        "colab_type": "code",
        "colab": {}
      },
      "source": [
        "#Leemos la base de datos\n",
        "emovi = pd.read_csv('Emovi4.csv')"
      ],
      "execution_count": 0,
      "outputs": []
    },
    {
      "cell_type": "code",
      "metadata": {
        "id": "3mde65D3HW3i",
        "colab_type": "code",
        "colab": {}
      },
      "source": [
        "emovi.head()"
      ],
      "execution_count": 0,
      "outputs": []
    },
    {
      "cell_type": "code",
      "metadata": {
        "id": "0BdAy92WLK3G",
        "colab_type": "code",
        "colab": {}
      },
      "source": [
        "emovi.describe()"
      ],
      "execution_count": 0,
      "outputs": []
    },
    {
      "cell_type": "code",
      "metadata": {
        "id": "_9JuKO_zMdvN",
        "colab_type": "code",
        "colab": {}
      },
      "source": [
        "#Veamos cuantas personas son discriminadas\n",
        "emovi.discriminacion.value_counts()"
      ],
      "execution_count": 0,
      "outputs": []
    },
    {
      "cell_type": "code",
      "metadata": {
        "id": "5I5a-bKghPxE",
        "colab_type": "code",
        "colab": {}
      },
      "source": [
        "dis = emovi['discriminacion'].loc[emovi['discriminacion']==1]\n",
        "dis1 = dis.value_counts()"
      ],
      "execution_count": 0,
      "outputs": []
    },
    {
      "cell_type": "code",
      "metadata": {
        "id": "7xwqlzqhR8Ju",
        "colab_type": "code",
        "colab": {}
      },
      "source": [
        "#Extraemos a las personas que fueron discriminadas por cada area:\n",
        "trabajo = emovi['dis_trabajo'].loc[emovi['dis_trabajo']==1]\n",
        "trabajo1 = trabajo.value_counts()\n",
        "escuela = emovi['dis_escuela'].loc[emovi['dis_escuela']==1]\n",
        "escuela1 = escuela.value_counts()\n",
        "oficina = emovi['dis_oficina'].loc[emovi['dis_oficina']==1]\n",
        "oficina1 = oficina.value_counts()\n",
        "hogar = emovi['dis_hogar'].loc[emovi['dis_hogar']==1]\n",
        "hogar1 = hogar.value_counts()\n",
        "barrio = emovi['dis_barrio'].loc[emovi['dis_barrio']==1]\n",
        "barrio1 = barrio.value_counts()\n",
        "otro = emovi['dis_otro'].loc[emovi['dis_otro']==1]\n",
        "otro1 = otro.value_counts()\n"
      ],
      "execution_count": 0,
      "outputs": []
    },
    {
      "cell_type": "code",
      "metadata": {
        "id": "uOcQI0FqvjgZ",
        "colab_type": "code",
        "colab": {
          "base_uri": "https://localhost:8080/",
          "height": 80
        },
        "outputId": "dc95cfd2-fb1f-4741-d082-4ddd602e976b"
      },
      "source": [
        "#Data Frame de Dsicriminación por lugares en Valores\n",
        "table1 = pd.DataFrame({\"Trabajo\": trabajo1, \"Escuela\": escuela1, \"Oficina\": oficina1, \"Hogar\": hogar1, \"Barrio\": barrio1, \"Otro\": otro1})\n",
        "table1"
      ],
      "execution_count": 193,
      "outputs": [
        {
          "output_type": "execute_result",
          "data": {
            "text/html": [
              "<div>\n",
              "<style scoped>\n",
              "    .dataframe tbody tr th:only-of-type {\n",
              "        vertical-align: middle;\n",
              "    }\n",
              "\n",
              "    .dataframe tbody tr th {\n",
              "        vertical-align: top;\n",
              "    }\n",
              "\n",
              "    .dataframe thead th {\n",
              "        text-align: right;\n",
              "    }\n",
              "</style>\n",
              "<table border=\"1\" class=\"dataframe\">\n",
              "  <thead>\n",
              "    <tr style=\"text-align: right;\">\n",
              "      <th></th>\n",
              "      <th>Trabajo</th>\n",
              "      <th>Escuela</th>\n",
              "      <th>Oficina</th>\n",
              "      <th>Hogar</th>\n",
              "      <th>Barrio</th>\n",
              "      <th>Otro</th>\n",
              "    </tr>\n",
              "  </thead>\n",
              "  <tbody>\n",
              "    <tr>\n",
              "      <th>1</th>\n",
              "      <td>114</td>\n",
              "      <td>88</td>\n",
              "      <td>65</td>\n",
              "      <td>51</td>\n",
              "      <td>128</td>\n",
              "      <td>37</td>\n",
              "    </tr>\n",
              "  </tbody>\n",
              "</table>\n",
              "</div>"
            ],
            "text/plain": [
              "   Trabajo  Escuela  Oficina  Hogar  Barrio  Otro\n",
              "1      114       88       65     51     128    37"
            ]
          },
          "metadata": {
            "tags": []
          },
          "execution_count": 193
        }
      ]
    },
    {
      "cell_type": "code",
      "metadata": {
        "id": "NVSgKT5PvTQ-",
        "colab_type": "code",
        "colab": {
          "base_uri": "https://localhost:8080/",
          "height": 265
        },
        "outputId": "941f82f9-5173-44df-8a9c-004bc6afed01"
      },
      "source": [
        "#GRAFICO DE DISCRIMINACIÓN POR LUGAR  \n",
        "#Caracteristicas necesarias para el gráfico de pastel:\n",
        "etiquetas = 'Trabajo', 'Escuela','Oficina','Hogar','Barrio', 'Otro'\n",
        "tamaños = table1.values #Obtiene el array de los valores\n",
        "colores = ['lightblue', 'pink',] #Colores para el piechart(gáfico de pastel)\n",
        "resaltar = (0.1,0.1,0.1,0.1,0.1,0.1) #Separación para resaltar\n",
        "# Plot\n",
        "plt.pie(tamaños, explode=resaltar, labels=etiquetas, colors=colores,\n",
        "autopct='%1.1f%%', shadow=True, startangle=90,) #Inicialización del objeto pie\n",
        "plt.title(\"DISCRIMINACIÓN POR LUGARES\")\n",
        "plt.show() #Mostrar gráfica"
      ],
      "execution_count": 194,
      "outputs": [
        {
          "output_type": "display_data",
          "data": {
            "image/png": "[encoded data removed]",
            "text/plain": [
              "<Figure size 432x288 with 1 Axes>"
            ]
          },
          "metadata": {
            "tags": []
          }
        }
      ]
    },
    {
      "cell_type": "code",
      "metadata": {
        "id": "9tZGgXvth8DX",
        "colab_type": "code",
        "colab": {}
      },
      "source": [
        "#Sacamos porcentajes respecto a los individuos que constestaron que sí son discriminados\n",
        "trabajo2 = (trabajo1/dis1)*100\n",
        "escuela2 =(escuela1/dis1)*100\n",
        "oficina2 =(oficina1/dis1)*100\n",
        "hogar2 =(hogar1/dis1)*100\n",
        "barrio2 = (barrio1/dis1)*100\n",
        "otro2 = (otro1/dis1)*100"
      ],
      "execution_count": 0,
      "outputs": []
    },
    {
      "cell_type": "code",
      "metadata": {
        "id": "TIce2O5_RqXD",
        "colab_type": "code",
        "colab": {
          "base_uri": "https://localhost:8080/",
          "height": 153
        },
        "outputId": "9b103cac-e486-4356-de55-d898dc86a220"
      },
      "source": [
        "#Tabla Resumen de Discriminación por lugar en %\n",
        "#No cuadra porque hay peronas que los discriminaron en varios lugares\n",
        "#por lo cual se repiten en varios lugares\n",
        "table = [[\"Trabajo\",trabajo2],[\"Escuela\",escuela2],[\"Oficina\", oficina2],[\"Hogar\",hogar2],[\"Barrio\",barrio2],[\"Otro\",otro2]]\n",
        "print(tabulate(table))"
      ],
      "execution_count": 196,
      "outputs": [
        {
          "output_type": "stream",
          "text": [
            "-------  -------\n",
            "Trabajo  32.6648\n",
            "Escuela  25.2149\n",
            "Oficina  18.6246\n",
            "Hogar    14.6132\n",
            "Barrio   36.6762\n",
            "Otro     10.6017\n",
            "-------  -------\n"
          ],
          "name": "stdout"
        }
      ]
    },
    {
      "cell_type": "markdown",
      "metadata": {
        "id": "BldNPcVCOJKu",
        "colab_type": "text"
      },
      "source": [
        "#Estadpistica Descriptiva"
      ]
    },
    {
      "cell_type": "code",
      "metadata": {
        "id": "XrMsjTO2_Cjh",
        "colab_type": "code",
        "outputId": "b4ecc7ae-c125-4c78-bc73-d3d3080c8c85",
        "colab": {
          "base_uri": "https://localhost:8080/",
          "height": 281
        }
      },
      "source": [
        "#GRÁFICO DE EDAD \n",
        "plt.hist(emovi.edad, histtype='bar')\n",
        "\n",
        "#plt.legend()\n",
        "plt.ylabel('# de encuestados')\n",
        "plt.title('EDAD')\n",
        "\n",
        "plt.show()"
      ],
      "execution_count": 0,
      "outputs": [
        {
          "output_type": "display_data",
          "data": {
            "image/png": "[encoded data removed]",
            "text/plain": [
              "<Figure size 432x288 with 1 Axes>"
            ]
          },
          "metadata": {
            "tags": [],
            "needs_background": "light"
          }
        }
      ]
    },
    {
      "cell_type": "code",
      "metadata": {
        "id": "Gm7cbY6zLp02",
        "colab_type": "code",
        "outputId": "74ee67ed-a003-4b6a-b1c1-c1fbe632c76a",
        "colab": {
          "base_uri": "https://localhost:8080/",
          "height": 281
        }
      },
      "source": [
        "#GRÁFICO DE EMPLEO\n",
        "plt.hist(emovi.empleo, histtype='bar')\n",
        "\n",
        "#plt.legend()\n",
        "plt.ylabel('# de encuestados')\n",
        "plt.title('EMPLEO')\n",
        "\n",
        "plt.show()"
      ],
      "execution_count": 0,
      "outputs": [
        {
          "output_type": "display_data",
          "data": {
            "image/png": "[encoded data removed]",
            "text/plain": [
              "<Figure size 432x288 with 1 Axes>"
            ]
          },
          "metadata": {
            "tags": [],
            "needs_background": "light"
          }
        }
      ]
    },
    {
      "cell_type": "code",
      "metadata": {
        "id": "o0faqya9OXni",
        "colab_type": "code",
        "outputId": "0aeea8c7-9e17-4ea2-e915-70975ec418c4",
        "colab": {
          "base_uri": "https://localhost:8080/",
          "height": 281
        }
      },
      "source": [
        "#GRÁFICO DE INGRESOS\n",
        "plt.hist(emovi.ingreso, histtype='bar')\n",
        "\n",
        "#plt.legend()\n",
        "plt.ylabel(\"# de encuestados\")\n",
        "plt.title(\"INGRESOS\")\n",
        "\n",
        "plt.show()"
      ],
      "execution_count": 197,
      "outputs": [
        {
          "output_type": "display_data",
          "data": {
            "image/png": "[encoded data removed]",
            "text/plain": [
              "<Figure size 432x288 with 1 Axes>"
            ]
          },
          "metadata": {
            "tags": [],
            "needs_background": "light"
          }
        }
      ]
    },
    {
      "cell_type": "markdown",
      "metadata": {
        "id": "ngJJ4Se3z4k-",
        "colab_type": "text"
      },
      "source": [
        "Este gráfico muestra el total de ingreso mensual que perciben los hogares.\n",
        "Los datos van desde un ingreso menor a un salario mínimo = 1 hasta más de 10 salarios mínimos = 7. \\\\\n",
        "\n",
        "Se observa que la mayor parte de los hogares tienen ingresos mensuales de más de un salario mínimo hasta 2 salarios mínimos =3 mientras que son muy pocos los hogares que ganan más de más de 5 salarios mínimos (6 y 7). Enontces, la gráfica\n",
        "claramente muestra una desigualdad de ingresos. \n",
        "\n",
        "Citando al CONEVAL \"una familia de cuatro personas se encuentra actualmente en situación de pobreza\n",
        "por ingresos si su ingreso mensual es inferior a \\$11,290.80. Esta cifra es muy superior al salario mínimo\n",
        "actual, que equivale a \\$2,401.2 mensuales. Habría que incrementar 4.7 veces el salario mínimo para\n",
        "cumplir lo estipulado en la Constitución Política de los Estados Unidos Mexicanos.\"\n",
        " (CONEVAL 2017)\n"
      ]
    },
    {
      "cell_type": "code",
      "metadata": {
        "id": "hejgvLQfFODY",
        "colab_type": "code",
        "colab": {
          "base_uri": "https://localhost:8080/",
          "height": 281
        },
        "outputId": "a3b6e805-6798-40ed-8d85-bebccfa3619d"
      },
      "source": [
        "#GRÁFICO DE ESCOLARIDAD\n",
        "plt.hist(emovi.escolaridad, histtype='bar')\n",
        "\n",
        "#plt.legend()\n",
        "plt.ylabel('# de encuestados')\n",
        "plt.title('ESCOLARIDAD')\n",
        "\n",
        "plt.show()"
      ],
      "execution_count": 198,
      "outputs": [
        {
          "output_type": "display_data",
          "data": {
            "image/png": "[encoded data removed]",
            "text/plain": [
              "<Figure size 432x288 with 1 Axes>"
            ]
          },
          "metadata": {
            "tags": [],
            "needs_background": "light"
          }
        }
      ]
    },
    {
      "cell_type": "markdown",
      "metadata": {
        "id": "xxj2HzlEFWgv",
        "colab_type": "text"
      },
      "source": [
        "La gráfica muestra que la mayoría de los individuos presentan estudios al menos de primaria, secundaria y preparatira, mientras que son un número muy reducido los que no presentan estudios o bien han alcanzado estudios de posgrado.\n",
        "En conclusión, la grafica representa la polarización en la educación de los individuos encuestados donde la media se concentra en niveles de educación básica. "
      ]
    },
    {
      "cell_type": "code",
      "metadata": {
        "id": "Z1x_U3UeK4ln",
        "colab_type": "code",
        "colab": {
          "base_uri": "https://localhost:8080/",
          "height": 281
        },
        "outputId": "d99d3c75-4980-42e8-ea8b-203f3bcf3b4a"
      },
      "source": [
        "#GRÁFICO DE REGIONES\n",
        "plt.hist(emovi.region, histtype='bar')\n",
        "\n",
        "#plt.legend()\n",
        "plt.ylabel('# de encuestados')\n",
        "plt.title('REGIONES')\n",
        "\n",
        "plt.show()"
      ],
      "execution_count": 202,
      "outputs": [
        {
          "output_type": "display_data",
          "data": {
            "image/png": "[encoded data removed]",
            "text/plain": [
              "<Figure size 432x288 with 1 Axes>"
            ]
          },
          "metadata": {
            "tags": [],
            "needs_background": "light"
          }
        }
      ]
    },
    {
      "cell_type": "markdown",
      "metadata": {
        "id": "546sW1rKMqba",
        "colab_type": "text"
      },
      "source": [
        "El gráfico muestra el tipo de regiones en donde se encuentran los individuos, \n",
        "La clasificación va de Norte = 1 a Sur = 5\\\\\n",
        "De forma general se ve que están normalmente distribuidos, aunque la mayoría de ellos viven en el centro del país. "
      ]
    },
    {
      "cell_type": "code",
      "metadata": {
        "id": "Q9Ms_Yh5lqjE",
        "colab_type": "code",
        "outputId": "3412cf1e-7be6-4045-f04e-bf723e840562",
        "colab": {
          "base_uri": "https://localhost:8080/",
          "height": 129
        }
      },
      "source": [
        "#DISCRIMINACION POR INGRESO\n",
        "(ggplot(emovi)\n",
        " + aes(x='color', y='ingreso', color='color', size='color')\n",
        " + geom_point()\n",
        " + labs(title='Ingresso por color de piel, x='Color de piel', y='Ingreso')\n",
        ")"
      ],
      "execution_count": 211,
      "outputs": [
        {
          "output_type": "error",
          "ename": "SyntaxError",
          "evalue": "ignored",
          "traceback": [
            "\u001b[0;36m  File \u001b[0;32m\"<ipython-input-211-a215fa46cf74>\"\u001b[0;36m, line \u001b[0;32m5\u001b[0m\n\u001b[0;31m    + labs(title='Ingresso por color de piel, x='Color de piel', y='Ingreso')\u001b[0m\n\u001b[0m                                                     ^\u001b[0m\n\u001b[0;31mSyntaxError\u001b[0m\u001b[0;31m:\u001b[0m invalid syntax\n"
          ]
        }
      ]
    },
    {
      "cell_type": "code",
      "metadata": {
        "id": "hzO4GoQ2j_R7",
        "colab_type": "code",
        "outputId": "a71dcf1e-d1e1-4d4f-98bd-32fe37d7a6c5",
        "colab": {
          "base_uri": "https://localhost:8080/",
          "height": 490
        }
      },
      "source": [
        "#DISCRIMINACION POR ESCOLARIDAD\n",
        "(ggplot(emovi)\n",
        " + aes(x='color', y='escolaridad', color='color', size='color')\n",
        " + geom_point()\n",
        " + labs(title='Escolaridad por color de pieal', x='Color de piel', y='Escolaridad')\n",
        ")"
      ],
      "execution_count": 212,
      "outputs": [
        {
          "output_type": "display_data",
          "data": {
            "image/png": "[encoded data removed]",
            "text/plain": [
              "<Figure size 640x480 with 1 Axes>"
            ]
          },
          "metadata": {
            "tags": []
          }
        },
        {
          "output_type": "execute_result",
          "data": {
            "text/plain": [
              "<ggplot: (8785724254924)>"
            ]
          },
          "metadata": {
            "tags": []
          },
          "execution_count": 212
        }
      ]
    },
    {
      "cell_type": "markdown",
      "metadata": {
        "id": "M-68I-g1HRCE",
        "colab_type": "text"
      },
      "source": [
        "La gráfica muestra el nivel de escolaridad de los individus según su color de piel\\\\\n",
        "Tanto los colores como el tamaño de los circulos señalan el color de piel del individuo donde el morado oscuro representa un color de piel oscura y el amarillo un color de piel clara. \\\\\n",
        "Se observa que las personas con piel oscura apenas alcanzan a obtener estudios de carrera técnia, mientras que un color de piel más clara indica que alcanzan hasta un grado de posgrado. \\\\\n",
        "\n",
        "Cabe añadir que la ggráfoca tiende a mostrar insignificancia en la educación básica ya que sin importar el color de piela, si se inician estudios estos logran ser terminados al menos hasta un bachillerato, sin embargo la gráfica no es un determinante para afirmarlo. Con lo cual más adelante se porcede a realizar un análsis de regresión logística que nos dirá más acertadamente la verdadera significancia de la relación entre el nivel de escolaridad y el color de piel."
      ]
    },
    {
      "cell_type": "code",
      "metadata": {
        "id": "SrR3dzU7ke9M",
        "colab_type": "code",
        "outputId": "82455f7b-38ae-484f-c817-17b7848ae3bc",
        "colab": {
          "base_uri": "https://localhost:8080/",
          "height": 490
        }
      },
      "source": [
        "#DISCIRMINACION POR EMPLEO\n",
        "(ggplot(emovi)\n",
        " + aes(x='color', y='empleo', color='color', size='color')\n",
        " + geom_point()\n",
        " + labs(title='Discriminación', x='Color de piel', y='Empleo')\n",
        ")"
      ],
      "execution_count": 0,
      "outputs": [
        {
          "output_type": "display_data",
          "data": {
            "image/png": "[encoded data removed]",
            "text/plain": [
              "<Figure size 640x480 with 1 Axes>"
            ]
          },
          "metadata": {
            "tags": []
          }
        },
        {
          "output_type": "execute_result",
          "data": {
            "text/plain": [
              "<ggplot: (-9223363257297860906)>"
            ]
          },
          "metadata": {
            "tags": []
          },
          "execution_count": 85
        }
      ]
    },
    {
      "cell_type": "code",
      "metadata": {
        "id": "VtrMYQ96oZ5G",
        "colab_type": "code",
        "outputId": "96e3f1fd-722e-41cb-97b3-b96d44b9773b",
        "colab": {
          "base_uri": "https://localhost:8080/",
          "height": 68
        }
      },
      "source": [
        "#GRAFICO DE SEXO\n",
        "#Caracteristicas necesarias para el gráfico de pastel:\n",
        "etiquetas = 'Mujer', 'Hombre'\n",
        "sexos = emovi['sexo'].value_counts() #Saca la frecuencia con la que se repiten en el data_frame los valores únicos por campo\n",
        "tamaños = sexos.values #Obtiene el array de los valores\n",
        "colores = ['lightblue', 'pink'] #Colores para el piechart(gáfico de pastel)\n",
        "resaltar = (0.1, 0) #Separación para resaltar\n",
        "sexos\n"
      ],
      "execution_count": 177,
      "outputs": [
        {
          "output_type": "execute_result",
          "data": {
            "text/plain": [
              "2    10746\n",
              "1     6919\n",
              "Name: sexo, dtype: int64"
            ]
          },
          "metadata": {
            "tags": []
          },
          "execution_count": 177
        }
      ]
    },
    {
      "cell_type": "code",
      "metadata": {
        "id": "MWzAyf2KqLYH",
        "colab_type": "code",
        "outputId": "a075ef29-61cd-4794-d841-49368e8ee929",
        "colab": {
          "base_uri": "https://localhost:8080/",
          "height": 264
        }
      },
      "source": [
        "# Plot\n",
        "plt.pie(tamaños, explode=resaltar, labels=etiquetas, colors=colores,\n",
        "autopct='%1.1f%%', shadow=True, startangle=90,) #Inicialización del objeto pie\n",
        "plt.title(\"SEXO\")\n",
        "plt.show() #Mostrar gráfica"
      ],
      "execution_count": 178,
      "outputs": [
        {
          "output_type": "display_data",
          "data": {
            "image/png": "[encoded data removed]",
            "text/plain": [
              "<Figure size 432x288 with 1 Axes>"
            ]
          },
          "metadata": {
            "tags": []
          }
        }
      ]
    },
    {
      "cell_type": "code",
      "metadata": {
        "id": "Yd6EyVqaVPVv",
        "colab_type": "code",
        "outputId": "cdf1690d-3e8c-41a8-cf53-ced6874dac9e",
        "colab": {
          "base_uri": "https://localhost:8080/",
          "height": 264
        }
      },
      "source": [
        "#GRAFICO DE LOCALIDADES\n",
        "#Caracteristicas necesarias para el gráfico de pastel:\n",
        "etiquetas = 'Urbano', 'Rural'\n",
        "rural = emovi['rururb'].value_counts() #Saca la frecuencia con la que se repiten en el data_frame los valores únicos por campo\n",
        "tamaños = rural.values #Obtiene el array de los valores\n",
        "colores = ['pink', 'lightblue'] #Colores para el piechart(gáfico de pastel)\n",
        "resaltar = (0.1, 0) #Separación para resaltar\n",
        "# Plot\n",
        "plt.pie(tamaños, explode=resaltar, labels=etiquetas, colors=colores,\n",
        "autopct='%1.1f%%', shadow=True, startangle=90,) #Inicialización del objeto pie\n",
        "plt.title(\"Localidades Rurales y Urbanas\")\n",
        "plt.show() #Mostrar gráfica\n"
      ],
      "execution_count": 179,
      "outputs": [
        {
          "output_type": "display_data",
          "data": {
            "image/png": "[encoded data removed]",
            "text/plain": [
              "<Figure size 432x288 with 1 Axes>"
            ]
          },
          "metadata": {
            "tags": []
          }
        }
      ]
    },
    {
      "cell_type": "code",
      "metadata": {
        "id": "0DSXMP92bKtU",
        "colab_type": "code",
        "outputId": "5e2d3f2d-7f19-4d9d-ae83-f25cb1201ff0",
        "colab": {
          "base_uri": "https://localhost:8080/",
          "height": 264
        }
      },
      "source": [
        "#GRAFICO DE REGIONES\n",
        "#Caracteristicas necesarias para el gráfico de pastel:\n",
        "etiquetas = 'Norte', 'Norte-Occidente','Centro-Norte','Centro','Sur'\n",
        "reg = emovi['region'].value_counts() #Saca la frecuencia con la que se repiten en el data_frame los valores únicos por campo\n",
        "tamaños = reg.values #Obtiene el array de los valores\n",
        "colores = ['lightblue', 'pink','lightgreen'] #Colores para el piechart(gáfico de pastel)\n",
        "resaltar = (0.1, 0.1,0.1,0.1,0.1) #Separación para resaltar\n",
        "#Plot\n",
        "plt.pie(tamaños, explode=resaltar, labels=etiquetas, colors=colores,\n",
        "autopct='%1.1f%%', shadow=True, startangle=90,) #Inicialización del objeto pie\n",
        "plt.title(\"REGIONES\")\n",
        "plt.show() #Mostrar gráfica"
      ],
      "execution_count": 181,
      "outputs": [
        {
          "output_type": "display_data",
          "data": {
            "image/png": "[encoded data removed]",
            "text/plain": [
              "<Figure size 432x288 with 1 Axes>"
            ]
          },
          "metadata": {
            "tags": []
          }
        }
      ]
    },
    {
      "cell_type": "code",
      "metadata": {
        "id": "PtjUpIWceKBV",
        "colab_type": "code",
        "outputId": "e9e09fd1-b16e-4043-8e60-515ee30fa16e",
        "colab": {
          "base_uri": "https://localhost:8080/",
          "height": 490
        }
      },
      "source": [
        "#GRAFICO DE COLOR DE PIEL\n",
        "(ggplot(emovi)         # defining what data to use\n",
        " + aes(x='color')    # defining what variable to use\n",
        " + geom_bar(size=15) # defining the type of plot to use\n",
        " + labs(title='TONALIDAD DE PIEL', x='Color de piel')\n",
        ")"
      ],
      "execution_count": 0,
      "outputs": [
        {
          "output_type": "display_data",
          "data": {
            "image/png": "[encoded data removed]",
            "text/plain": [
              "<Figure size 640x480 with 1 Axes>"
            ]
          },
          "metadata": {
            "tags": []
          }
        },
        {
          "output_type": "execute_result",
          "data": {
            "text/plain": [
              "<ggplot: (8779561300758)>"
            ]
          },
          "metadata": {
            "tags": []
          },
          "execution_count": 47
        }
      ]
    },
    {
      "cell_type": "code",
      "metadata": {
        "id": "4RGKcAZOOVb0",
        "colab_type": "code",
        "colab": {}
      },
      "source": [
        "1 $\\rightarrow$ hombre"
      ],
      "execution_count": 0,
      "outputs": []
    },
    {
      "cell_type": "code",
      "metadata": {
        "id": "CqO_T670fp8E",
        "colab_type": "code",
        "outputId": "605d9906-8f83-48c9-9cbc-e0226b2d65ec",
        "colab": {
          "base_uri": "https://localhost:8080/",
          "height": 265
        }
      },
      "source": [
        "#GRAFICO DE DISCRIMINACION\n",
        "#Caracteristicas necesarias para el gráfico de pastel:\n",
        "etiquetas = 'No Discriminado','Discriminado'\n",
        "dis = emovi['discriminacion'].value_counts() #Saca la frecuencia con la que se repiten en el data_frame los valores únicos por campo\n",
        "tamaños = dis.values #Obtiene el array de los valores\n",
        "colores = ['pink', 'blue'] #Colores para el piechart(gáfico de pastel)\n",
        "resaltar = (0.1, 0.1) #Separación para resaltar\n",
        "#Plot\n",
        "plt.pie(tamaños, explode=resaltar, labels=etiquetas, colors=colores,\n",
        "autopct='%1.1f%%', shadow=True, startangle=90,) #Inicialización del objeto pie\n",
        "plt.title(\"DISCRMINACION\")\n",
        "plt.show() #Mostrar gráfica"
      ],
      "execution_count": 185,
      "outputs": [
        {
          "output_type": "display_data",
          "data": {
            "image/png": "[encoded data removed]",
            "text/plain": [
              "<Figure size 432x288 with 1 Axes>"
            ]
          },
          "metadata": {
            "tags": []
          }
        }
      ]
    },
    {
      "cell_type": "markdown",
      "metadata": {
        "id": "RW1O1I-W5OVe",
        "colab_type": "text"
      },
      "source": [
        "#ANÁLISIS LOGÍSTICO"
      ]
    },
    {
      "cell_type": "code",
      "metadata": {
        "id": "eh7ZUKS5-UgL",
        "colab_type": "code",
        "colab": {}
      },
      "source": [
        "# Borrado de NA's \n",
        "emovi_1 = emovi.dropna(subset=['discriminacion', 'color', 'rururb', 'region', 'empleo', 'escolaridad', 'ingreso'])"
      ],
      "execution_count": 0,
      "outputs": []
    },
    {
      "cell_type": "markdown",
      "metadata": {
        "id": "xNSP5mvYPO8V",
        "colab_type": "text"
      },
      "source": [
        "###PROBABILIDADES DE INGRESO POR COLOR DE PIEL"
      ]
    },
    {
      "cell_type": "code",
      "metadata": {
        "id": "hIZPNe_u5NQt",
        "colab_type": "code",
        "outputId": "51808e41-0655-4a44-fa72-86e7e0521c22",
        "colab": {
          "base_uri": "https://localhost:8080/",
          "height": 68
        }
      },
      "source": [
        "X = emovi_1[['color', 'escolaridad', 'empleo']]\n",
        "X = sm.add_constant(X)\n",
        "Y = emovi_1['ingreso']\n",
        "mdl = sm.MNLogit(Y, X)\n",
        "mdl_fit = mdl.fit()"
      ],
      "execution_count": 0,
      "outputs": [
        {
          "output_type": "stream",
          "text": [
            "Optimization terminated successfully.\n",
            "         Current function value: 1.644304\n",
            "         Iterations 9\n"
          ],
          "name": "stdout"
        }
      ]
    },
    {
      "cell_type": "code",
      "metadata": {
        "id": "Al5l9zbM95JP",
        "colab_type": "code",
        "outputId": "751754fa-6f22-49b2-bb23-402afdcff846",
        "colab": {
          "base_uri": "https://localhost:8080/",
          "height": 901
        }
      },
      "source": [
        "# Imprimiendo Resultados:\n",
        "print(mdl_fit.summary())"
      ],
      "execution_count": 0,
      "outputs": [
        {
          "output_type": "stream",
          "text": [
            "                          MNLogit Regression Results                          \n",
            "==============================================================================\n",
            "Dep. Variable:                ingreso   No. Observations:                12370\n",
            "Model:                        MNLogit   Df Residuals:                    12346\n",
            "Method:                           MLE   Df Model:                           18\n",
            "Date:                Fri, 12 Jun 2020   Pseudo R-squ.:                 0.05772\n",
            "Time:                        01:07:16   Log-Likelihood:                -20340.\n",
            "converged:                       True   LL-Null:                       -21586.\n",
            "Covariance Type:            nonrobust   LLR p-value:                     0.000\n",
            "===============================================================================\n",
            "  ingreso=2       coef    std err          z      P>|z|      [0.025      0.975]\n",
            "-------------------------------------------------------------------------------\n",
            "const          -0.8745      0.192     -4.563      0.000      -1.250      -0.499\n",
            "color           0.0828      0.025      3.371      0.001       0.035       0.131\n",
            "escolaridad     0.0782      0.015      5.157      0.000       0.048       0.108\n",
            "empleo         -0.0205      0.018     -1.173      0.241      -0.055       0.014\n",
            "-------------------------------------------------------------------------------\n",
            "  ingreso=3       coef    std err          z      P>|z|      [0.025      0.975]\n",
            "-------------------------------------------------------------------------------\n",
            "const          -0.3148      0.167     -1.882      0.060      -0.643       0.013\n",
            "color           0.0765      0.022      3.550      0.000       0.034       0.119\n",
            "escolaridad     0.1605      0.013     12.204      0.000       0.135       0.186\n",
            "empleo         -0.1086      0.016     -6.949      0.000      -0.139      -0.078\n",
            "-------------------------------------------------------------------------------\n",
            "  ingreso=4       coef    std err          z      P>|z|      [0.025      0.975]\n",
            "-------------------------------------------------------------------------------\n",
            "const          -1.2813      0.178     -7.189      0.000      -1.631      -0.932\n",
            "color           0.1387      0.023      6.064      0.000       0.094       0.184\n",
            "escolaridad     0.2426      0.013     18.311      0.000       0.217       0.269\n",
            "empleo         -0.1288      0.017     -7.753      0.000      -0.161      -0.096\n",
            "-------------------------------------------------------------------------------\n",
            "  ingreso=5       coef    std err          z      P>|z|      [0.025      0.975]\n",
            "-------------------------------------------------------------------------------\n",
            "const          -3.3219      0.216    -15.411      0.000      -3.744      -2.899\n",
            "color           0.2443      0.027      8.954      0.000       0.191       0.298\n",
            "escolaridad     0.3656      0.014     25.902      0.000       0.338       0.393\n",
            "empleo         -0.1268      0.020     -6.338      0.000      -0.166      -0.088\n",
            "-------------------------------------------------------------------------------\n",
            "  ingreso=6       coef    std err          z      P>|z|      [0.025      0.975]\n",
            "-------------------------------------------------------------------------------\n",
            "const          -5.7347      0.310    -18.526      0.000      -6.341      -5.128\n",
            "color           0.3161      0.038      8.317      0.000       0.242       0.391\n",
            "escolaridad     0.4984      0.017     28.726      0.000       0.464       0.532\n",
            "empleo         -0.1459      0.030     -4.883      0.000      -0.204      -0.087\n",
            "-------------------------------------------------------------------------------\n",
            "  ingreso=7       coef    std err          z      P>|z|      [0.025      0.975]\n",
            "-------------------------------------------------------------------------------\n",
            "const          -8.4411      0.562    -15.019      0.000      -9.543      -7.340\n",
            "color           0.3755      0.065      5.738      0.000       0.247       0.504\n",
            "escolaridad     0.6052      0.030     20.427      0.000       0.547       0.663\n",
            "empleo         -0.1437      0.055     -2.615      0.009      -0.251      -0.036\n",
            "===============================================================================\n"
          ],
          "name": "stdout"
        }
      ]
    },
    {
      "cell_type": "code",
      "metadata": {
        "id": "IGMFpS6yB8dz",
        "colab_type": "code",
        "outputId": "1a272bc3-c407-4ebd-9238-93716324d05f",
        "colab": {
          "base_uri": "https://localhost:8080/",
          "height": 833
        }
      },
      "source": [
        "# Efectos Marginnales: Ingreso por Color de Piel\n",
        "mdl_margeff = mdl_fit.get_margeff()\n",
        "print(mdl_margeff.summary())"
      ],
      "execution_count": 0,
      "outputs": [
        {
          "output_type": "stream",
          "text": [
            "       MNLogit Marginal Effects      \n",
            "=====================================\n",
            "Dep. Variable:                ingreso\n",
            "Method:                          dydx\n",
            "At:                           overall\n",
            "===============================================================================\n",
            "  ingreso=1      dy/dx    std err          z      P>|z|      [0.025      0.975]\n",
            "-------------------------------------------------------------------------------\n",
            "color          -0.0105      0.003     -3.795      0.000      -0.016      -0.005\n",
            "escolaridad    -0.0032      0.001     -2.708      0.007      -0.006      -0.001\n",
            "empleo          0.0163      0.002      8.184      0.000       0.012       0.020\n",
            "-------------------------------------------------------------------------------\n",
            "  ingreso=2      dy/dx    std err          z      P>|z|      [0.025      0.975]\n",
            "-------------------------------------------------------------------------------\n",
            "color          -0.0032      0.002     -1.529      0.126      -0.007       0.001\n",
            "escolaridad    -0.0155      0.001    -14.254      0.000      -0.018      -0.013\n",
            "empleo          0.0071      0.001      4.843      0.000       0.004       0.010\n",
            "-------------------------------------------------------------------------------\n",
            "  ingreso=3      dy/dx    std err          z      P>|z|      [0.025      0.975]\n",
            "-------------------------------------------------------------------------------\n",
            "color          -0.0094      0.003     -3.497      0.000      -0.015      -0.004\n",
            "escolaridad    -0.0128      0.001    -10.630      0.000      -0.015      -0.010\n",
            "empleo         -0.0068      0.002     -3.384      0.001      -0.011      -0.003\n",
            "-------------------------------------------------------------------------------\n",
            "  ingreso=4      dy/dx    std err          z      P>|z|      [0.025      0.975]\n",
            "-------------------------------------------------------------------------------\n",
            "color           0.0025      0.003      0.945      0.345      -0.003       0.008\n",
            "escolaridad     0.0031      0.001      2.952      0.003       0.001       0.005\n",
            "empleo         -0.0092      0.002     -4.677      0.000      -0.013      -0.005\n",
            "-------------------------------------------------------------------------------\n",
            "  ingreso=5      dy/dx    std err          z      P>|z|      [0.025      0.975]\n",
            "-------------------------------------------------------------------------------\n",
            "color           0.0116      0.002      5.425      0.000       0.007       0.016\n",
            "escolaridad     0.0139      0.001     17.990      0.000       0.012       0.015\n",
            "empleo         -0.0045      0.002     -2.770      0.006      -0.008      -0.001\n",
            "-------------------------------------------------------------------------------\n",
            "  ingreso=6      dy/dx    std err          z      P>|z|      [0.025      0.975]\n",
            "-------------------------------------------------------------------------------\n",
            "color           0.0068      0.001      4.846      0.000       0.004       0.010\n",
            "escolaridad     0.0106      0.001     18.289      0.000       0.010       0.012\n",
            "empleo         -0.0024      0.001     -2.117      0.034      -0.005      -0.000\n",
            "-------------------------------------------------------------------------------\n",
            "  ingreso=7      dy/dx    std err          z      P>|z|      [0.025      0.975]\n",
            "-------------------------------------------------------------------------------\n",
            "color           0.0023      0.001      3.092      0.002       0.001       0.004\n",
            "escolaridad     0.0040      0.000      9.848      0.000       0.003       0.005\n",
            "empleo         -0.0006      0.001     -0.918      0.359      -0.002       0.001\n",
            "===============================================================================\n"
          ],
          "name": "stdout"
        }
      ]
    },
    {
      "cell_type": "markdown",
      "metadata": {
        "id": "eEiIbX0QCw5x",
        "colab_type": "text"
      },
      "source": [
        "###PROBABILIDADES DEL TIPO DE EMPLEO POR COLOR DE PIEL"
      ]
    },
    {
      "cell_type": "code",
      "metadata": {
        "id": "gE_Wib_6ChGh",
        "colab_type": "code",
        "outputId": "6b8664c3-c170-4996-b488-e4e585b27485",
        "colab": {
          "base_uri": "https://localhost:8080/",
          "height": 68
        }
      },
      "source": [
        "X = emovi_1[['color', 'rururb', 'sexo','escolaridad']]\n",
        "X = sm.add_constant(X)\n",
        "Y = emovi_1['empleo']\n",
        "mdl = sm.MNLogit(Y, X)\n",
        "mdl_fit = mdl.fit()"
      ],
      "execution_count": 0,
      "outputs": [
        {
          "output_type": "stream",
          "text": [
            "Optimization terminated successfully.\n",
            "         Current function value: 1.067294\n",
            "         Iterations 8\n"
          ],
          "name": "stdout"
        }
      ]
    },
    {
      "cell_type": "code",
      "metadata": {
        "id": "QTeBnEjVEF-Q",
        "colab_type": "code",
        "colab": {}
      },
      "source": [
        "# Imprimiendo Resultados:\n",
        "print(mdl_fit.summary())"
      ],
      "execution_count": 0,
      "outputs": []
    },
    {
      "cell_type": "code",
      "metadata": {
        "id": "6vkJc_9IFHdz",
        "colab_type": "code",
        "colab": {}
      },
      "source": [
        "# Efectos Marginnales: de Empleo por color de piel\n",
        "mdl_margeff = mdl_fit.get_margeff()\n",
        "print(mdl_margeff.summary())"
      ],
      "execution_count": 0,
      "outputs": []
    },
    {
      "cell_type": "markdown",
      "metadata": {
        "id": "GoH6SQ-IGdSU",
        "colab_type": "text"
      },
      "source": [
        "###PROBABILIDADES DE OBTENER GRADOS POR COLOR DE PIEL"
      ]
    },
    {
      "cell_type": "code",
      "metadata": {
        "id": "s9yfjK-nGgFj",
        "colab_type": "code",
        "outputId": "2183e369-c105-4062-f409-35f4d1c8ad05",
        "colab": {
          "base_uri": "https://localhost:8080/",
          "height": 68
        }
      },
      "source": [
        "X = emovi_1[['color','sexo','ingreso','region']]\n",
        "X = sm.add_constant(X)\n",
        "Y = emovi_1['escolaridad']\n",
        "mdl = sm.MNLogit(Y, X)\n",
        "mdl_fit = mdl.fit()"
      ],
      "execution_count": 205,
      "outputs": [
        {
          "output_type": "stream",
          "text": [
            "Optimization terminated successfully.\n",
            "         Current function value: 1.514456\n",
            "         Iterations 11\n"
          ],
          "name": "stdout"
        }
      ]
    },
    {
      "cell_type": "code",
      "metadata": {
        "id": "pVKdgmxhG74q",
        "colab_type": "code",
        "outputId": "ef206c6a-51ce-45e3-dae1-088fee8f97bf",
        "colab": {
          "base_uri": "https://localhost:8080/",
          "height": 1000
        }
      },
      "source": [
        "# Imprimiendo Resultados:\n",
        "print(mdl_fit.summary())"
      ],
      "execution_count": 206,
      "outputs": [
        {
          "output_type": "stream",
          "text": [
            "                          MNLogit Regression Results                          \n",
            "==============================================================================\n",
            "Dep. Variable:            escolaridad   No. Observations:                12370\n",
            "Model:                        MNLogit   Df Residuals:                    12335\n",
            "Method:                           MLE   Df Model:                           28\n",
            "Date:                Sun, 14 Jun 2020   Pseudo R-squ.:                 0.06631\n",
            "Time:                        00:47:49   Log-Likelihood:                -18734.\n",
            "converged:                       True   LL-Null:                       -20064.\n",
            "Covariance Type:            nonrobust   LLR p-value:                     0.000\n",
            "=================================================================================\n",
            "escolaridad=1       coef    std err          z      P>|z|      [0.025      0.975]\n",
            "---------------------------------------------------------------------------------\n",
            "const            -1.3380      1.720     -0.778      0.437      -4.710       2.034\n",
            "color            -0.0256      0.192     -0.133      0.894      -0.402       0.351\n",
            "sexo              0.0608      0.543      0.112      0.911      -1.004       1.125\n",
            "ingreso          -0.3178      0.252     -1.259      0.208      -0.812       0.177\n",
            "region           -0.3219      0.183     -1.763      0.078      -0.680       0.036\n",
            "---------------------------------------------------------------------------------\n",
            "escolaridad=2       coef    std err          z      P>|z|      [0.025      0.975]\n",
            "---------------------------------------------------------------------------------\n",
            "const             2.0905      0.386      5.409      0.000       1.333       2.848\n",
            "color             0.0388      0.041      0.943      0.346      -0.042       0.120\n",
            "sexo             -0.0212      0.114     -0.186      0.852      -0.245       0.202\n",
            "ingreso           0.2389      0.047      5.051      0.000       0.146       0.332\n",
            "region           -0.2193      0.043     -5.100      0.000      -0.304      -0.135\n",
            "---------------------------------------------------------------------------------\n",
            "escolaridad=3       coef    std err          z      P>|z|      [0.025      0.975]\n",
            "---------------------------------------------------------------------------------\n",
            "const             1.5594      0.385      4.047      0.000       0.804       2.315\n",
            "color             0.0633      0.041      1.541      0.123      -0.017       0.144\n",
            "sexo              0.0208      0.114      0.183      0.855      -0.202       0.243\n",
            "ingreso           0.4772      0.047     10.161      0.000       0.385       0.569\n",
            "region           -0.2703      0.043     -6.319      0.000      -0.354      -0.186\n",
            "---------------------------------------------------------------------------------\n",
            "escolaridad=4       coef    std err          z      P>|z|      [0.025      0.975]\n",
            "---------------------------------------------------------------------------------\n",
            "const            -0.2884      0.399     -0.723      0.470      -1.070       0.494\n",
            "color             0.1695      0.043      3.985      0.000       0.086       0.253\n",
            "sexo             -0.2788      0.116     -2.394      0.017      -0.507      -0.051\n",
            "ingreso           0.7134      0.048     14.860      0.000       0.619       0.808\n",
            "region           -0.1570      0.044     -3.574      0.000      -0.243      -0.071\n",
            "---------------------------------------------------------------------------------\n",
            "escolaridad=5       coef    std err          z      P>|z|      [0.025      0.975]\n",
            "---------------------------------------------------------------------------------\n",
            "const            -3.1704      0.491     -6.453      0.000      -4.133      -2.207\n",
            "color             0.1227      0.052      2.373      0.018       0.021       0.224\n",
            "sexo              0.6224      0.144      4.334      0.000       0.341       0.904\n",
            "ingreso           0.8659      0.056     15.545      0.000       0.757       0.975\n",
            "region           -0.2448      0.052     -4.748      0.000      -0.346      -0.144\n",
            "---------------------------------------------------------------------------------\n",
            "escolaridad=6       coef    std err          z      P>|z|      [0.025      0.975]\n",
            "---------------------------------------------------------------------------------\n",
            "const            -3.4150      0.424     -8.058      0.000      -4.246      -2.584\n",
            "color             0.3405      0.045      7.590      0.000       0.253       0.428\n",
            "sexo             -0.3710      0.121     -3.059      0.002      -0.609      -0.133\n",
            "ingreso           1.1114      0.050     22.202      0.000       1.013       1.210\n",
            "region           -0.1273      0.046     -2.788      0.005      -0.217      -0.038\n",
            "---------------------------------------------------------------------------------\n",
            "escolaridad=7       coef    std err          z      P>|z|      [0.025      0.975]\n",
            "---------------------------------------------------------------------------------\n",
            "const            -8.2933      0.783    -10.590      0.000      -9.828      -6.758\n",
            "color             0.3377      0.078      4.312      0.000       0.184       0.491\n",
            "sexo             -0.2748      0.206     -1.334      0.182      -0.679       0.129\n",
            "ingreso           1.5874      0.084     18.842      0.000       1.422       1.753\n",
            "region           -0.1422      0.076     -1.868      0.062      -0.291       0.007\n",
            "=================================================================================\n"
          ],
          "name": "stdout"
        }
      ]
    },
    {
      "cell_type": "code",
      "metadata": {
        "id": "9kvOAK3uG4q1",
        "colab_type": "code",
        "outputId": "dcf395a8-5236-46c6-c859-3df9e5354c5c",
        "colab": {
          "base_uri": "https://localhost:8080/",
          "height": 1000
        }
      },
      "source": [
        "# Efectos Marginnales: Escolaridad por Color de piel\n",
        "mdl_margeff = mdl_fit.get_margeff()\n",
        "print(mdl_margeff.summary())"
      ],
      "execution_count": 207,
      "outputs": [
        {
          "output_type": "stream",
          "text": [
            "       MNLogit Marginal Effects      \n",
            "=====================================\n",
            "Dep. Variable:            escolaridad\n",
            "Method:                          dydx\n",
            "At:                           overall\n",
            "=================================================================================\n",
            "escolaridad=0      dy/dx    std err          z      P>|z|      [0.025      0.975]\n",
            "---------------------------------------------------------------------------------\n",
            "color            -0.0028      0.001     -2.534      0.011      -0.005      -0.001\n",
            "sexo              0.0017      0.003      0.565      0.572      -0.004       0.008\n",
            "ingreso          -0.0141      0.001    -10.656      0.000      -0.017      -0.012\n",
            "region            0.0061      0.001      5.120      0.000       0.004       0.008\n",
            "---------------------------------------------------------------------------------\n",
            "escolaridad=1      dy/dx    std err          z      P>|z|      [0.025      0.975]\n",
            "---------------------------------------------------------------------------------\n",
            "color            -0.0001      0.000     -0.597      0.550      -0.001       0.000\n",
            "sexo              0.0001      0.001      0.207      0.836      -0.001       0.001\n",
            "ingreso          -0.0009      0.000     -2.553      0.011      -0.002      -0.000\n",
            "region           -0.0001      0.000     -0.623      0.533      -0.001       0.000\n",
            "---------------------------------------------------------------------------------\n",
            "escolaridad=2      dy/dx    std err          z      P>|z|      [0.025      0.975]\n",
            "---------------------------------------------------------------------------------\n",
            "color            -0.0165      0.003     -5.787      0.000      -0.022      -0.011\n",
            "sexo              0.0113      0.008      1.482      0.138      -0.004       0.026\n",
            "ingreso          -0.0688      0.003    -26.766      0.000      -0.074      -0.064\n",
            "region           -0.0030      0.003     -1.121      0.262      -0.008       0.002\n",
            "---------------------------------------------------------------------------------\n",
            "escolaridad=3      dy/dx    std err          z      P>|z|      [0.025      0.975]\n",
            "---------------------------------------------------------------------------------\n",
            "color            -0.0165      0.003     -5.247      0.000      -0.023      -0.010\n",
            "sexo              0.0301      0.008      3.617      0.000       0.014       0.046\n",
            "ingreso          -0.0238      0.003     -8.713      0.000      -0.029      -0.018\n",
            "region           -0.0201      0.003     -6.879      0.000      -0.026      -0.014\n",
            "---------------------------------------------------------------------------------\n",
            "escolaridad=4      dy/dx    std err          z      P>|z|      [0.025      0.975]\n",
            "---------------------------------------------------------------------------------\n",
            "color             0.0078      0.003      2.782      0.005       0.002       0.013\n",
            "sexo             -0.0380      0.007     -5.246      0.000      -0.052      -0.024\n",
            "ingreso           0.0234      0.002     10.120      0.000       0.019       0.028\n",
            "region            0.0090      0.003      3.444      0.001       0.004       0.014\n",
            "---------------------------------------------------------------------------------\n",
            "escolaridad=5      dy/dx    std err          z      P>|z|      [0.025      0.975]\n",
            "---------------------------------------------------------------------------------\n",
            "color            -0.0006      0.001     -0.403      0.687      -0.003       0.002\n",
            "sexo              0.0327      0.004      7.791      0.000       0.025       0.041\n",
            "ingreso           0.0115      0.001      9.135      0.000       0.009       0.014\n",
            "region           -0.0020      0.001     -1.494      0.135      -0.005       0.001\n",
            "---------------------------------------------------------------------------------\n",
            "escolaridad=6      dy/dx    std err          z      P>|z|      [0.025      0.975]\n",
            "---------------------------------------------------------------------------------\n",
            "color             0.0269      0.002     11.117      0.000       0.022       0.032\n",
            "sexo             -0.0365      0.006     -6.036      0.000      -0.048      -0.025\n",
            "ingreso           0.0634      0.002     30.109      0.000       0.059       0.068\n",
            "region            0.0097      0.002      4.372      0.000       0.005       0.014\n",
            "---------------------------------------------------------------------------------\n",
            "escolaridad=7      dy/dx    std err          z      P>|z|      [0.025      0.975]\n",
            "---------------------------------------------------------------------------------\n",
            "color             0.0017      0.001      2.350      0.019       0.000       0.003\n",
            "sexo             -0.0014      0.002     -0.742      0.458      -0.005       0.002\n",
            "ingreso           0.0094      0.001      9.569      0.000       0.007       0.011\n",
            "region            0.0005      0.001      0.688      0.492      -0.001       0.002\n",
            "=================================================================================\n"
          ],
          "name": "stdout"
        }
      ]
    },
    {
      "cell_type": "markdown",
      "metadata": {
        "id": "k3Mn5W9QPv0c",
        "colab_type": "text"
      },
      "source": [
        "Acorde con los efectos marginales, solo dos niveles de escolaridad resultaron no significativos a un nivel de confianza del 90% tales fueron: \"estudiar preescolar o kinder\" y \"carrera técnica\".\n",
        "Encuanto al resto de los grados, a un nivel de confianza del 95% se tiene lo siguiente:\n",
        "\n",
        " **No presentar estudios** muestra una relación negativa, lo que implica que entre más claro sea el color de piel las probabilidades de no contar con estudios se reducen en 0.28%\n",
        "\n",
        "Tener **Primaria** terminada presenta una relación negativa con el color de piel, lo que indica que entre más claro sea la tonalidad del color de piel, la probabilidad de tener primaria terminada se reduce en 1.65%.\n",
        "\n",
        "Tener **Secundaria** terminada muestra una relación negativa con el color de piel, indicando que los individuos cuyo color de piel es más claro reducen sus probabilidades de tener secundaria en 1.65%\n",
        "\n",
        "Nótese que estos resultados parecieran ser negativos para las personas de color de piel clara, sin embargo no es así, lo que realmente muestran los datos es que las personas con un color de piel más claro tienen menos probabilidades de presentar únicamente educación básica, ya que tienden a presentar niveles de educación superior en comparación con las personas de color de piel oscura.\n",
        "\n",
        "Los estudios de **Preparatoria** muestran una relación positiva, es decir que entre má claro se a el color de piel del indivisuo sus probabilidades de obtener estudios de bachillerato se incrementan en 0.78%\n",
        "\n",
        "Los estudios de **licenciatura** muestran una relación positiva, lo que indica que entre más claro el color de piel, las probabilidades de presentar estudios de licenciatura se incrementan en 2.69%. \n",
        "\n",
        "Los estudios de **posgrado** muestran también una relación positiva con el color de piel, entre más clara sea la tonalidad de piel de una persona, su probabilidad de obtener un posgrado aumenta en 0.17%\n",
        "\n"
      ]
    }
  ]
}