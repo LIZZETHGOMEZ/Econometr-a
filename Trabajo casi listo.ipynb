{
  "nbformat": 4,
  "nbformat_minor": 0,
  "metadata": {
    "colab": {
      "name": "Copy of Copy of Trabajo Final_Econometría.ipynb",
      "provenance": [],
      "collapsed_sections": [],
      "toc_visible": true,
      "include_colab_link": true
    },
    "kernelspec": {
      "name": "python3",
      "display_name": "Python 3"
    }
  },
  "cells": [
    {
      "cell_type": "markdown",
      "metadata": {
        "id": "view-in-github",
        "colab_type": "text"
      },
      "source": [
        "<a href=\"https://colab.research.google.com/github/LIZZETHGOMEZ/Econometria_/blob/School/Trabajo%20casi%20listo.ipynb\" target=\"_parent\"><img src=\"https://colab.research.google.com/assets/colab-badge.svg\" alt=\"Open In Colab\"/></a>"
      ]
    },
    {
      "cell_type": "markdown",
      "metadata": {
        "id": "dCEjzKyjBXfv",
        "colab_type": "text"
      },
      "source": [
        "#ECONOMETRÍA\n",
        "##Trabajo Final\n",
        "* ### Cuenca Fitz Alexis Manuel\n",
        "* ### Gomez Rodríguez Lizzeth\n",
        "* ### Pineda Sandoval Tania Jocelyn\n",
        "\n",
        "\n"
      ]
    },
    {
      "cell_type": "markdown",
      "metadata": {
        "id": "Ty7nMrdjsEVI",
        "colab_type": "text"
      },
      "source": [
        "La base de datos a utilizar es la **ESRU-EMOVI 2017** que es una Encuesta de Movilidad Social del Centro de Estudios Espinosa Yglesias (CEEY), que se puede encontrar en la siguiente liga kjunto con el cuestionario: https://ceey.org.mx/contenido/que-hacemos/emovi/"
      ]
    },
    {
      "cell_type": "code",
      "metadata": {
        "id": "7J63cleQB6Lv",
        "colab_type": "code",
        "colab": {
          "base_uri": "https://localhost:8080/",
          "height": 547
        },
        "outputId": "68e7a9f6-bb54-4d07-c64c-ab80baf56ac0"
      },
      "source": [
        "#Instalamos las paqueterías necesarias\n",
        "!pip install pyreadstat\n",
        "!pip install statsmodels\n",
        "!pip install pandas plotnine"
      ],
      "execution_count": 25,
      "outputs": [
        {
          "output_type": "stream",
          "text": [
            "Requirement already satisfied: pyreadstat in /usr/local/lib/python3.6/dist-packages (0.3.4)\n",
            "Requirement already satisfied: pandas>0.24.0 in /usr/local/lib/python3.6/dist-packages (from pyreadstat) (1.0.4)\n",
            "Requirement already satisfied: numpy>=1.13.3 in /usr/local/lib/python3.6/dist-packages (from pandas>0.24.0->pyreadstat) (1.18.5)\n",
            "Requirement already satisfied: pytz>=2017.2 in /usr/local/lib/python3.6/dist-packages (from pandas>0.24.0->pyreadstat) (2018.9)\n",
            "Requirement already satisfied: python-dateutil>=2.6.1 in /usr/local/lib/python3.6/dist-packages (from pandas>0.24.0->pyreadstat) (2.8.1)\n",
            "Requirement already satisfied: six>=1.5 in /usr/local/lib/python3.6/dist-packages (from python-dateutil>=2.6.1->pandas>0.24.0->pyreadstat) (1.12.0)\n",
            "Requirement already satisfied: statsmodels in /usr/local/lib/python3.6/dist-packages (0.10.2)\n",
            "Requirement already satisfied: patsy>=0.4.0 in /usr/local/lib/python3.6/dist-packages (from statsmodels) (0.5.1)\n",
            "Requirement already satisfied: numpy>=1.11 in /usr/local/lib/python3.6/dist-packages (from statsmodels) (1.18.5)\n",
            "Requirement already satisfied: pandas>=0.19 in /usr/local/lib/python3.6/dist-packages (from statsmodels) (1.0.4)\n",
            "Requirement already satisfied: scipy>=0.18 in /usr/local/lib/python3.6/dist-packages (from statsmodels) (1.4.1)\n",
            "Requirement already satisfied: six in /usr/local/lib/python3.6/dist-packages (from patsy>=0.4.0->statsmodels) (1.12.0)\n",
            "Requirement already satisfied: pytz>=2017.2 in /usr/local/lib/python3.6/dist-packages (from pandas>=0.19->statsmodels) (2018.9)\n",
            "Requirement already satisfied: python-dateutil>=2.6.1 in /usr/local/lib/python3.6/dist-packages (from pandas>=0.19->statsmodels) (2.8.1)\n",
            "Requirement already satisfied: pandas in /usr/local/lib/python3.6/dist-packages (1.0.4)\n",
            "Requirement already satisfied: plotnine in /usr/local/lib/python3.6/dist-packages (0.6.0)\n",
            "Requirement already satisfied: pytz>=2017.2 in /usr/local/lib/python3.6/dist-packages (from pandas) (2018.9)\n",
            "Requirement already satisfied: numpy>=1.13.3 in /usr/local/lib/python3.6/dist-packages (from pandas) (1.18.5)\n",
            "Requirement already satisfied: python-dateutil>=2.6.1 in /usr/local/lib/python3.6/dist-packages (from pandas) (2.8.1)\n",
            "Requirement already satisfied: mizani>=0.6.0 in /usr/local/lib/python3.6/dist-packages (from plotnine) (0.6.0)\n",
            "Requirement already satisfied: matplotlib>=3.1.1 in /usr/local/lib/python3.6/dist-packages (from plotnine) (3.2.1)\n",
            "Requirement already satisfied: patsy>=0.4.1 in /usr/local/lib/python3.6/dist-packages (from plotnine) (0.5.1)\n",
            "Requirement already satisfied: descartes>=1.1.0 in /usr/local/lib/python3.6/dist-packages (from plotnine) (1.1.0)\n",
            "Requirement already satisfied: statsmodels>=0.9.0 in /usr/local/lib/python3.6/dist-packages (from plotnine) (0.10.2)\n",
            "Requirement already satisfied: scipy>=1.2.0 in /usr/local/lib/python3.6/dist-packages (from plotnine) (1.4.1)\n",
            "Requirement already satisfied: six>=1.5 in /usr/local/lib/python3.6/dist-packages (from python-dateutil>=2.6.1->pandas) (1.12.0)\n",
            "Requirement already satisfied: palettable in /usr/local/lib/python3.6/dist-packages (from mizani>=0.6.0->plotnine) (3.3.0)\n",
            "Requirement already satisfied: pyparsing!=2.0.4,!=2.1.2,!=2.1.6,>=2.0.1 in /usr/local/lib/python3.6/dist-packages (from matplotlib>=3.1.1->plotnine) (2.4.7)\n",
            "Requirement already satisfied: cycler>=0.10 in /usr/local/lib/python3.6/dist-packages (from matplotlib>=3.1.1->plotnine) (0.10.0)\n",
            "Requirement already satisfied: kiwisolver>=1.0.1 in /usr/local/lib/python3.6/dist-packages (from matplotlib>=3.1.1->plotnine) (1.2.0)\n"
          ],
          "name": "stdout"
        }
      ]
    },
    {
      "cell_type": "code",
      "metadata": {
        "id": "mEKSupmIm5u0",
        "colab_type": "code",
        "colab": {}
      },
      "source": [
        "#Importamos las librerías a utilizar\n",
        "import pyreadstat #librería para leer  formato.dta\n",
        "import pandas as pd #librería para manipulación de datos\n",
        "import matplotlib #librería para graficar\n",
        "from matplotlib import pyplot as plt #librería para graficar\n",
        "\n",
        "\n",
        "import statsmodels.api as sm #librería para análisis estadístico\n",
        "from scipy import stats\n",
        "import matplotlib.pyplot as plt\n",
        "import statsmodels.api as sm\n",
        "from statsmodels.formula.api import logit\n",
        "from statsmodels.iolib.summary2 import summary_col\n"
      ],
      "execution_count": 0,
      "outputs": []
    },
    {
      "cell_type": "code",
      "metadata": {
        "id": "K-CZcdFZi0q8",
        "colab_type": "code",
        "colab": {}
      },
      "source": [
        "import pandas as pd\n",
        "import numpy as np\n",
        "from pandas.api.types import CategoricalDtype\n",
        "from plotnine import *\n",
        "from plotnine.data import mpg"
      ],
      "execution_count": 0,
      "outputs": []
    },
    {
      "cell_type": "code",
      "metadata": {
        "id": "h5_--sDMi2Ut",
        "colab_type": "code",
        "colab": {}
      },
      "source": [
        "%matplotlib inline"
      ],
      "execution_count": 0,
      "outputs": []
    },
    {
      "cell_type": "code",
      "metadata": {
        "id": "nKnuLCyKvuG5",
        "colab_type": "code",
        "colab": {}
      },
      "source": [
        "import pylab as pl"
      ],
      "execution_count": 0,
      "outputs": []
    },
    {
      "cell_type": "code",
      "metadata": {
        "id": "zu-l4P93W7em",
        "colab_type": "code",
        "colab": {}
      },
      "source": [
        "import warnings\n",
        "warnings.filterwarnings('ignore')\n",
        "from plotnine import *"
      ],
      "execution_count": 0,
      "outputs": []
    },
    {
      "cell_type": "code",
      "metadata": {
        "id": "IXMwGxY6pw9J",
        "colab_type": "code",
        "colab": {}
      },
      "source": [
        "#Leemos la base de datos\n",
        "emovi = pd.read_csv('Emovi3.csv')"
      ],
      "execution_count": 0,
      "outputs": []
    },
    {
      "cell_type": "code",
      "metadata": {
        "id": "3mde65D3HW3i",
        "colab_type": "code",
        "outputId": "6185bdb5-f90a-445f-e3fc-7bd78e90e588",
        "colab": {
          "base_uri": "https://localhost:8080/",
          "height": 224
        }
      },
      "source": [
        "emovi.head()"
      ],
      "execution_count": 8,
      "outputs": [
        {
          "output_type": "execute_result",
          "data": {
            "text/html": [
              "<div>\n",
              "<style scoped>\n",
              "    .dataframe tbody tr th:only-of-type {\n",
              "        vertical-align: middle;\n",
              "    }\n",
              "\n",
              "    .dataframe tbody tr th {\n",
              "        vertical-align: top;\n",
              "    }\n",
              "\n",
              "    .dataframe thead th {\n",
              "        text-align: right;\n",
              "    }\n",
              "</style>\n",
              "<table border=\"1\" class=\"dataframe\">\n",
              "  <thead>\n",
              "    <tr style=\"text-align: right;\">\n",
              "      <th></th>\n",
              "      <th>edad</th>\n",
              "      <th>sexo</th>\n",
              "      <th>escolaridad</th>\n",
              "      <th>empleo</th>\n",
              "      <th>ingreso</th>\n",
              "      <th>discriminacion</th>\n",
              "      <th>dis_trabajo</th>\n",
              "      <th>dis_escuela</th>\n",
              "      <th>dis_oficina</th>\n",
              "      <th>dis_hogar</th>\n",
              "      <th>dis_barrio</th>\n",
              "      <th>dis_otro</th>\n",
              "      <th>color</th>\n",
              "      <th>region</th>\n",
              "      <th>rururb</th>\n",
              "    </tr>\n",
              "  </thead>\n",
              "  <tbody>\n",
              "    <tr>\n",
              "      <th>0</th>\n",
              "      <td>64</td>\n",
              "      <td>2</td>\n",
              "      <td>9.0</td>\n",
              "      <td>1.0</td>\n",
              "      <td>4.0</td>\n",
              "      <td>0</td>\n",
              "      <td>0</td>\n",
              "      <td>0</td>\n",
              "      <td>0</td>\n",
              "      <td>0</td>\n",
              "      <td>0</td>\n",
              "      <td>0</td>\n",
              "      <td>8</td>\n",
              "      <td>3</td>\n",
              "      <td>0</td>\n",
              "    </tr>\n",
              "    <tr>\n",
              "      <th>1</th>\n",
              "      <td>60</td>\n",
              "      <td>1</td>\n",
              "      <td>3.0</td>\n",
              "      <td>5.0</td>\n",
              "      <td>4.0</td>\n",
              "      <td>0</td>\n",
              "      <td>0</td>\n",
              "      <td>0</td>\n",
              "      <td>0</td>\n",
              "      <td>0</td>\n",
              "      <td>0</td>\n",
              "      <td>0</td>\n",
              "      <td>8</td>\n",
              "      <td>3</td>\n",
              "      <td>0</td>\n",
              "    </tr>\n",
              "    <tr>\n",
              "      <th>2</th>\n",
              "      <td>64</td>\n",
              "      <td>1</td>\n",
              "      <td>7.0</td>\n",
              "      <td>1.0</td>\n",
              "      <td>4.0</td>\n",
              "      <td>0</td>\n",
              "      <td>0</td>\n",
              "      <td>0</td>\n",
              "      <td>0</td>\n",
              "      <td>0</td>\n",
              "      <td>0</td>\n",
              "      <td>0</td>\n",
              "      <td>8</td>\n",
              "      <td>3</td>\n",
              "      <td>0</td>\n",
              "    </tr>\n",
              "    <tr>\n",
              "      <th>3</th>\n",
              "      <td>63</td>\n",
              "      <td>2</td>\n",
              "      <td>2.0</td>\n",
              "      <td>NaN</td>\n",
              "      <td>2.0</td>\n",
              "      <td>0</td>\n",
              "      <td>0</td>\n",
              "      <td>0</td>\n",
              "      <td>0</td>\n",
              "      <td>0</td>\n",
              "      <td>0</td>\n",
              "      <td>0</td>\n",
              "      <td>9</td>\n",
              "      <td>3</td>\n",
              "      <td>0</td>\n",
              "    </tr>\n",
              "    <tr>\n",
              "      <th>4</th>\n",
              "      <td>64</td>\n",
              "      <td>2</td>\n",
              "      <td>2.0</td>\n",
              "      <td>NaN</td>\n",
              "      <td>3.0</td>\n",
              "      <td>0</td>\n",
              "      <td>0</td>\n",
              "      <td>0</td>\n",
              "      <td>0</td>\n",
              "      <td>0</td>\n",
              "      <td>0</td>\n",
              "      <td>0</td>\n",
              "      <td>8</td>\n",
              "      <td>3</td>\n",
              "      <td>0</td>\n",
              "    </tr>\n",
              "  </tbody>\n",
              "</table>\n",
              "</div>"
            ],
            "text/plain": [
              "   edad  sexo  escolaridad  empleo  ...  dis_otro  color  region  rururb\n",
              "0    64     2          9.0     1.0  ...         0      8       3       0\n",
              "1    60     1          3.0     5.0  ...         0      8       3       0\n",
              "2    64     1          7.0     1.0  ...         0      8       3       0\n",
              "3    63     2          2.0     NaN  ...         0      9       3       0\n",
              "4    64     2          2.0     NaN  ...         0      8       3       0\n",
              "\n",
              "[5 rows x 15 columns]"
            ]
          },
          "metadata": {
            "tags": []
          },
          "execution_count": 8
        }
      ]
    },
    {
      "cell_type": "code",
      "metadata": {
        "id": "0BdAy92WLK3G",
        "colab_type": "code",
        "outputId": "b339cbfe-5a4d-4359-c0df-97f93ba7e020",
        "colab": {
          "base_uri": "https://localhost:8080/",
          "height": 317
        }
      },
      "source": [
        "emovi.describe()"
      ],
      "execution_count": 0,
      "outputs": [
        {
          "output_type": "execute_result",
          "data": {
            "text/html": [
              "<div>\n",
              "<style scoped>\n",
              "    .dataframe tbody tr th:only-of-type {\n",
              "        vertical-align: middle;\n",
              "    }\n",
              "\n",
              "    .dataframe tbody tr th {\n",
              "        vertical-align: top;\n",
              "    }\n",
              "\n",
              "    .dataframe thead th {\n",
              "        text-align: right;\n",
              "    }\n",
              "</style>\n",
              "<table border=\"1\" class=\"dataframe\">\n",
              "  <thead>\n",
              "    <tr style=\"text-align: right;\">\n",
              "      <th></th>\n",
              "      <th>edad</th>\n",
              "      <th>sexo</th>\n",
              "      <th>escolaridad</th>\n",
              "      <th>empleo</th>\n",
              "      <th>ingreso</th>\n",
              "      <th>discriminacion</th>\n",
              "      <th>dis_trabajo</th>\n",
              "      <th>dis_escuela</th>\n",
              "      <th>dis_oficina</th>\n",
              "      <th>dis_hogar</th>\n",
              "      <th>dis_barrio</th>\n",
              "      <th>dis_otro</th>\n",
              "      <th>color</th>\n",
              "      <th>region</th>\n",
              "      <th>rururb</th>\n",
              "    </tr>\n",
              "  </thead>\n",
              "  <tbody>\n",
              "    <tr>\n",
              "      <th>count</th>\n",
              "      <td>17665.000000</td>\n",
              "      <td>17665.000000</td>\n",
              "      <td>17664.000000</td>\n",
              "      <td>14110.000000</td>\n",
              "      <td>15229.000000</td>\n",
              "      <td>17665.000000</td>\n",
              "      <td>17665.000000</td>\n",
              "      <td>17665.000000</td>\n",
              "      <td>17665.00000</td>\n",
              "      <td>17665.000000</td>\n",
              "      <td>17665.000000</td>\n",
              "      <td>17665.000000</td>\n",
              "      <td>17665.000000</td>\n",
              "      <td>17665.000000</td>\n",
              "      <td>17665.000000</td>\n",
              "    </tr>\n",
              "    <tr>\n",
              "      <th>mean</th>\n",
              "      <td>43.636569</td>\n",
              "      <td>1.608322</td>\n",
              "      <td>4.899457</td>\n",
              "      <td>2.345571</td>\n",
              "      <td>3.179066</td>\n",
              "      <td>0.019757</td>\n",
              "      <td>0.006453</td>\n",
              "      <td>0.004982</td>\n",
              "      <td>0.00368</td>\n",
              "      <td>0.002887</td>\n",
              "      <td>0.007246</td>\n",
              "      <td>0.002095</td>\n",
              "      <td>7.262100</td>\n",
              "      <td>3.233569</td>\n",
              "      <td>0.115369</td>\n",
              "    </tr>\n",
              "    <tr>\n",
              "      <th>std</th>\n",
              "      <td>12.000790</td>\n",
              "      <td>0.488139</td>\n",
              "      <td>3.116575</td>\n",
              "      <td>1.816030</td>\n",
              "      <td>1.470904</td>\n",
              "      <td>0.139167</td>\n",
              "      <td>0.080076</td>\n",
              "      <td>0.070406</td>\n",
              "      <td>0.06055</td>\n",
              "      <td>0.053655</td>\n",
              "      <td>0.084817</td>\n",
              "      <td>0.045719</td>\n",
              "      <td>1.317783</td>\n",
              "      <td>1.404015</td>\n",
              "      <td>0.319476</td>\n",
              "    </tr>\n",
              "    <tr>\n",
              "      <th>min</th>\n",
              "      <td>25.000000</td>\n",
              "      <td>1.000000</td>\n",
              "      <td>0.000000</td>\n",
              "      <td>1.000000</td>\n",
              "      <td>1.000000</td>\n",
              "      <td>0.000000</td>\n",
              "      <td>0.000000</td>\n",
              "      <td>0.000000</td>\n",
              "      <td>0.00000</td>\n",
              "      <td>0.000000</td>\n",
              "      <td>0.000000</td>\n",
              "      <td>0.000000</td>\n",
              "      <td>1.000000</td>\n",
              "      <td>1.000000</td>\n",
              "      <td>0.000000</td>\n",
              "    </tr>\n",
              "    <tr>\n",
              "      <th>25%</th>\n",
              "      <td>34.000000</td>\n",
              "      <td>1.000000</td>\n",
              "      <td>2.000000</td>\n",
              "      <td>1.000000</td>\n",
              "      <td>2.000000</td>\n",
              "      <td>0.000000</td>\n",
              "      <td>0.000000</td>\n",
              "      <td>0.000000</td>\n",
              "      <td>0.00000</td>\n",
              "      <td>0.000000</td>\n",
              "      <td>0.000000</td>\n",
              "      <td>0.000000</td>\n",
              "      <td>7.000000</td>\n",
              "      <td>2.000000</td>\n",
              "      <td>0.000000</td>\n",
              "    </tr>\n",
              "    <tr>\n",
              "      <th>50%</th>\n",
              "      <td>43.000000</td>\n",
              "      <td>2.000000</td>\n",
              "      <td>4.000000</td>\n",
              "      <td>1.000000</td>\n",
              "      <td>3.000000</td>\n",
              "      <td>0.000000</td>\n",
              "      <td>0.000000</td>\n",
              "      <td>0.000000</td>\n",
              "      <td>0.00000</td>\n",
              "      <td>0.000000</td>\n",
              "      <td>0.000000</td>\n",
              "      <td>0.000000</td>\n",
              "      <td>7.000000</td>\n",
              "      <td>4.000000</td>\n",
              "      <td>0.000000</td>\n",
              "    </tr>\n",
              "    <tr>\n",
              "      <th>75%</th>\n",
              "      <td>54.000000</td>\n",
              "      <td>2.000000</td>\n",
              "      <td>6.000000</td>\n",
              "      <td>5.000000</td>\n",
              "      <td>4.000000</td>\n",
              "      <td>0.000000</td>\n",
              "      <td>0.000000</td>\n",
              "      <td>0.000000</td>\n",
              "      <td>0.00000</td>\n",
              "      <td>0.000000</td>\n",
              "      <td>0.000000</td>\n",
              "      <td>0.000000</td>\n",
              "      <td>8.000000</td>\n",
              "      <td>4.000000</td>\n",
              "      <td>0.000000</td>\n",
              "    </tr>\n",
              "    <tr>\n",
              "      <th>max</th>\n",
              "      <td>64.000000</td>\n",
              "      <td>2.000000</td>\n",
              "      <td>12.000000</td>\n",
              "      <td>6.000000</td>\n",
              "      <td>7.000000</td>\n",
              "      <td>1.000000</td>\n",
              "      <td>1.000000</td>\n",
              "      <td>1.000000</td>\n",
              "      <td>1.00000</td>\n",
              "      <td>1.000000</td>\n",
              "      <td>1.000000</td>\n",
              "      <td>1.000000</td>\n",
              "      <td>11.000000</td>\n",
              "      <td>5.000000</td>\n",
              "      <td>1.000000</td>\n",
              "    </tr>\n",
              "  </tbody>\n",
              "</table>\n",
              "</div>"
            ],
            "text/plain": [
              "               edad          sexo  ...        region        rururb\n",
              "count  17665.000000  17665.000000  ...  17665.000000  17665.000000\n",
              "mean      43.636569      1.608322  ...      3.233569      0.115369\n",
              "std       12.000790      0.488139  ...      1.404015      0.319476\n",
              "min       25.000000      1.000000  ...      1.000000      0.000000\n",
              "25%       34.000000      1.000000  ...      2.000000      0.000000\n",
              "50%       43.000000      2.000000  ...      4.000000      0.000000\n",
              "75%       54.000000      2.000000  ...      4.000000      0.000000\n",
              "max       64.000000      2.000000  ...      5.000000      1.000000\n",
              "\n",
              "[8 rows x 15 columns]"
            ]
          },
          "metadata": {
            "tags": []
          },
          "execution_count": 6
        }
      ]
    },
    {
      "cell_type": "code",
      "metadata": {
        "id": "yzfMZhFDPs_j",
        "colab_type": "code",
        "colab": {}
      },
      "source": [
        "#emovi.rename(columns={'p05':'edad','p06':'sexo','p13':'escolaridad','p102':'empleo','p133':'ingreso','p1505':'discriminacion','p1505_1':'dis_trabajo','p1505_2':'dis_escuela','p1505_3':'dis_oficina','p1505_4':'dis_hogar','p1505_5':'dis_barrio','p1505_6':'dis_otro','p151':'color','r579on':'region','rurur2':'rurur'})"
      ],
      "execution_count": 0,
      "outputs": []
    },
    {
      "cell_type": "code",
      "metadata": {
        "id": "kHJjPsdf8WK6",
        "colab_type": "code",
        "outputId": "3a8febaf-a63b-4b2b-b514-70acedeceb2f",
        "colab": {
          "base_uri": "https://localhost:8080/",
          "height": 221
        }
      },
      "source": [
        "print(emovi.ingreso)"
      ],
      "execution_count": 0,
      "outputs": [
        {
          "output_type": "stream",
          "text": [
            "0        4.0\n",
            "1        4.0\n",
            "2        4.0\n",
            "3        2.0\n",
            "4        3.0\n",
            "        ... \n",
            "17660    3.0\n",
            "17661    1.0\n",
            "17662    2.0\n",
            "17663    1.0\n",
            "17664    3.0\n",
            "Name: ingreso, Length: 17665, dtype: float64\n"
          ],
          "name": "stdout"
        }
      ]
    },
    {
      "cell_type": "markdown",
      "metadata": {
        "id": "BldNPcVCOJKu",
        "colab_type": "text"
      },
      "source": [
        "#Estadpistica Descriptiva"
      ]
    },
    {
      "cell_type": "code",
      "metadata": {
        "id": "XrMsjTO2_Cjh",
        "colab_type": "code",
        "outputId": "c0923ecb-5d14-4f80-eeb1-59a918d0ac51",
        "colab": {
          "base_uri": "https://localhost:8080/",
          "height": 281
        }
      },
      "source": [
        "# plotting histogram in order to see\n",
        "plt.hist(emovi.edad, histtype='bar')\n",
        "\n",
        "#plt.legend()\n",
        "plt.ylabel('# de encuestados')\n",
        "plt.title('Edad')\n",
        "\n",
        "plt.show()"
      ],
      "execution_count": 0,
      "outputs": [
        {
          "output_type": "display_data",
          "data": {
            "image/png": "[encoded data removed]",
            "text/plain": [
              "<Figure size 432x288 with 1 Axes>"
            ]
          },
          "metadata": {
            "tags": [],
            "needs_background": "light"
          }
        }
      ]
    },
    {
      "cell_type": "code",
      "metadata": {
        "id": "Gm7cbY6zLp02",
        "colab_type": "code",
        "outputId": "e9790e98-ed59-47b4-f085-1c7827e6d02a",
        "colab": {
          "base_uri": "https://localhost:8080/",
          "height": 281
        }
      },
      "source": [
        "# plotting histogram in order to see\n",
        "plt.hist(emovi.empleo, histtype='bar')\n",
        "\n",
        "#plt.legend()\n",
        "plt.ylabel('# de encuestados')\n",
        "plt.title('Empleo')\n",
        "\n",
        "plt.show()"
      ],
      "execution_count": 0,
      "outputs": [
        {
          "output_type": "display_data",
          "data": {
            "image/png": "[encoded data removed]",
            "text/plain": [
              "<Figure size 432x288 with 1 Axes>"
            ]
          },
          "metadata": {
            "tags": [],
            "needs_background": "light"
          }
        }
      ]
    },
    {
      "cell_type": "code",
      "metadata": {
        "id": "o0faqya9OXni",
        "colab_type": "code",
        "outputId": "08766838-0158-4550-d4b0-8f3af45c363b",
        "colab": {
          "base_uri": "https://localhost:8080/",
          "height": 281
        }
      },
      "source": [
        "# plotting histogram in order to see\n",
        "plt.hist(emovi.ingreso, histtype='bar')\n",
        "\n",
        "#plt.legend()\n",
        "plt.ylabel(\"# de encuestados\")\n",
        "plt.title(\"Ingresos\")\n",
        "\n",
        "plt.show()"
      ],
      "execution_count": 0,
      "outputs": [
        {
          "output_type": "display_data",
          "data": {
            "image/png": "[encoded data removed]",
            "text/plain": [
              "<Figure size 432x288 with 1 Axes>"
            ]
          },
          "metadata": {
            "tags": [],
            "needs_background": "light"
          }
        }
      ]
    },
    {
      "cell_type": "code",
      "metadata": {
        "id": "pc_MYCfnDcyD",
        "colab_type": "code",
        "colab": {}
      },
      "source": [
        "# Borrado de NA's \n",
        "#emovi.dropna(subset=['discriminacion', 'color', 'rururb', 'region','ingreso', 'empleo'])"
      ],
      "execution_count": 0,
      "outputs": []
    },
    {
      "cell_type": "code",
      "metadata": {
        "id": "BIrh7va1hEKa",
        "colab_type": "code",
        "outputId": "56a61863-a85b-4aa9-dbad-ad373219f320",
        "colab": {
          "base_uri": "https://localhost:8080/",
          "height": 338
        }
      },
      "source": [
        "plot = emovi['edad'].value_counts().plot(kind='bar', \n",
        "                                          figsize=(8,5),\n",
        "                                          title='EDAD')"
      ],
      "execution_count": 0,
      "outputs": [
        {
          "output_type": "display_data",
          "data": {
            "image/png": "[encoded data removed]",
            "text/plain": [
              "<Figure size 576x360 with 1 Axes>"
            ]
          },
          "metadata": {
            "tags": [],
            "needs_background": "light"
          }
        }
      ]
    },
    {
      "cell_type": "code",
      "metadata": {
        "id": "3n52Bg0mlOAw",
        "colab_type": "code",
        "outputId": "14f3a52f-aa50-4509-8922-c1d60d75820b",
        "colab": {
          "base_uri": "https://localhost:8080/",
          "height": 464
        }
      },
      "source": [
        "(ggplot(emovi)         # defining what data to use\n",
        " + aes(x='edad')    # defining what variable to use\n",
        " + geom_bar(size=15) # defining the type of plot to use\n",
        ")"
      ],
      "execution_count": 0,
      "outputs": [
        {
          "output_type": "display_data",
          "data": {
            "image/png": "[encoded data removed]",
            "text/plain": [
              "<Figure size 640x480 with 1 Axes>"
            ]
          },
          "metadata": {
            "tags": []
          }
        },
        {
          "output_type": "execute_result",
          "data": {
            "text/plain": [
              "<ggplot: (-9223363305033368786)>"
            ]
          },
          "metadata": {
            "tags": []
          },
          "execution_count": 95
        }
      ]
    },
    {
      "cell_type": "code",
      "metadata": {
        "id": "Q9Ms_Yh5lqjE",
        "colab_type": "code",
        "outputId": "849d6c40-e1a5-4094-fdb7-853adddd93c9",
        "colab": {
          "base_uri": "https://localhost:8080/",
          "height": 490
        }
      },
      "source": [
        "(ggplot(emovi)\n",
        " + aes(x='color', y='ingreso', color='color')\n",
        " + geom_point()\n",
        " + labs(title='Discriminación', x='Color de piel', y='Ingreso')\n",
        ")"
      ],
      "execution_count": 0,
      "outputs": [
        {
          "output_type": "display_data",
          "data": {
            "image/png": "[encoded data removed]",
            "text/plain": [
              "<Figure size 640x480 with 1 Axes>"
            ]
          },
          "metadata": {
            "tags": []
          }
        },
        {
          "output_type": "execute_result",
          "data": {
            "text/plain": [
              "<ggplot: (-9223363305031742001)>"
            ]
          },
          "metadata": {
            "tags": []
          },
          "execution_count": 117
        }
      ]
    },
    {
      "cell_type": "code",
      "metadata": {
        "id": "VtrMYQ96oZ5G",
        "colab_type": "code",
        "outputId": "77248da1-201d-4f19-df06-f7437f636c27",
        "colab": {
          "base_uri": "https://localhost:8080/",
          "height": 68
        }
      },
      "source": [
        "#Caracteristicas necesarias para el gráfico de pastel:\n",
        "etiquetas = 'Mujer', 'Hombre'\n",
        "sexos = emovi['sexo'].value_counts() #Saca la frecuencia con la que se repiten en el data_frame los valores únicos por campo\n",
        "tamaños = sexos.values #Obtiene el array de los valores\n",
        "colores = ['orange', 'purple'] #Colores para el piechart(gáfico de pastel)\n",
        "resaltar = (0.1, 0) #Separación para resaltar\n",
        "sexos\n"
      ],
      "execution_count": 0,
      "outputs": [
        {
          "output_type": "execute_result",
          "data": {
            "text/plain": [
              "2    10746\n",
              "1     6919\n",
              "Name: sexo, dtype: int64"
            ]
          },
          "metadata": {
            "tags": []
          },
          "execution_count": 66
        }
      ]
    },
    {
      "cell_type": "code",
      "metadata": {
        "id": "MWzAyf2KqLYH",
        "colab_type": "code",
        "outputId": "c9a5f3e1-549e-42c0-859a-ced6601db1b7",
        "colab": {
          "base_uri": "https://localhost:8080/",
          "height": 264
        }
      },
      "source": [
        "# Plot\n",
        "plt.pie(tamaños, explode=resaltar, labels=etiquetas, colors=colores,\n",
        "autopct='%1.1f%%', shadow=True, startangle=90,) #Inicialización del objeto pie\n",
        "plt.title(\"SEXO\")\n",
        "plt.show() #Mostrar gráfica"
      ],
      "execution_count": 0,
      "outputs": [
        {
          "output_type": "display_data",
          "data": {
            "image/png": "[encoded data removed]",
            "text/plain": [
              "<Figure size 432x288 with 1 Axes>"
            ]
          },
          "metadata": {
            "tags": []
          }
        }
      ]
    },
    {
      "cell_type": "code",
      "metadata": {
        "id": "vRtSgU1ftKc8",
        "colab_type": "code",
        "outputId": "3ee76146-4018-47d6-b25d-f0e3f4b124f4",
        "colab": {
          "base_uri": "https://localhost:8080/",
          "height": 348
        }
      },
      "source": [
        "plot = logit(i'escolaridad'].value_counts().plot(kind='bar', \n",
        "                                          figsize=(7,5),\n",
        "                                          title='ESCOLARIDAD')"
      ],
      "execution_count": 0,
      "outputs": [
        {
          "output_type": "display_data",
          "data": {
            "image/png": "[encoded data removed]",
            "text/plain": [
              "<Figure size 504x360 with 1 Axes>"
            ]
          },
          "metadata": {
            "tags": [],
            "needs_background": "light"
          }
        }
      ]
    },
    {
      "cell_type": "markdown",
      "metadata": {
        "id": "RW1O1I-W5OVe",
        "colab_type": "text"
      },
      "source": [
        "#ANÁLISIS LOGÍSTICO"
      ]
    },
    {
      "cell_type": "code",
      "metadata": {
        "id": "eh7ZUKS5-UgL",
        "colab_type": "code",
        "colab": {}
      },
      "source": [
        "# Borrado de NA's \n",
        "emovi_1 = emovi.dropna(subset=['discriminacion', 'color', 'rururb', 'region', 'empleo', 'escolaridad', 'ingreso'])"
      ],
      "execution_count": 0,
      "outputs": []
    },
    {
      "cell_type": "code",
      "metadata": {
        "id": "hIZPNe_u5NQt",
        "colab_type": "code",
        "outputId": "51808e41-0655-4a44-fa72-86e7e0521c22",
        "colab": {
          "base_uri": "https://localhost:8080/",
          "height": 68
        }
      },
      "source": [
        "X = emovi_1[['color', 'escolaridad', 'empleo']]\n",
        "X = sm.add_constant(X)\n",
        "Y = emovi_1['ingreso']\n",
        "mdl = sm.MNLogit(Y, X)\n",
        "mdl_fit = mdl.fit()"
      ],
      "execution_count": 33,
      "outputs": [
        {
          "output_type": "stream",
          "text": [
            "Optimization terminated successfully.\n",
            "         Current function value: 1.644304\n",
            "         Iterations 9\n"
          ],
          "name": "stdout"
        }
      ]
    },
    {
      "cell_type": "code",
      "metadata": {
        "id": "Al5l9zbM95JP",
        "colab_type": "code",
        "outputId": "751754fa-6f22-49b2-bb23-402afdcff846",
        "colab": {
          "base_uri": "https://localhost:8080/",
          "height": 901
        }
      },
      "source": [
        "# Imprimiendo Resultados:\n",
        "print(mdl_fit.summary())"
      ],
      "execution_count": 34,
      "outputs": [
        {
          "output_type": "stream",
          "text": [
            "                          MNLogit Regression Results                          \n",
            "==============================================================================\n",
            "Dep. Variable:                ingreso   No. Observations:                12370\n",
            "Model:                        MNLogit   Df Residuals:                    12346\n",
            "Method:                           MLE   Df Model:                           18\n",
            "Date:                Fri, 12 Jun 2020   Pseudo R-squ.:                 0.05772\n",
            "Time:                        01:07:16   Log-Likelihood:                -20340.\n",
            "converged:                       True   LL-Null:                       -21586.\n",
            "Covariance Type:            nonrobust   LLR p-value:                     0.000\n",
            "===============================================================================\n",
            "  ingreso=2       coef    std err          z      P>|z|      [0.025      0.975]\n",
            "-------------------------------------------------------------------------------\n",
            "const          -0.8745      0.192     -4.563      0.000      -1.250      -0.499\n",
            "color           0.0828      0.025      3.371      0.001       0.035       0.131\n",
            "escolaridad     0.0782      0.015      5.157      0.000       0.048       0.108\n",
            "empleo         -0.0205      0.018     -1.173      0.241      -0.055       0.014\n",
            "-------------------------------------------------------------------------------\n",
            "  ingreso=3       coef    std err          z      P>|z|      [0.025      0.975]\n",
            "-------------------------------------------------------------------------------\n",
            "const          -0.3148      0.167     -1.882      0.060      -0.643       0.013\n",
            "color           0.0765      0.022      3.550      0.000       0.034       0.119\n",
            "escolaridad     0.1605      0.013     12.204      0.000       0.135       0.186\n",
            "empleo         -0.1086      0.016     -6.949      0.000      -0.139      -0.078\n",
            "-------------------------------------------------------------------------------\n",
            "  ingreso=4       coef    std err          z      P>|z|      [0.025      0.975]\n",
            "-------------------------------------------------------------------------------\n",
            "const          -1.2813      0.178     -7.189      0.000      -1.631      -0.932\n",
            "color           0.1387      0.023      6.064      0.000       0.094       0.184\n",
            "escolaridad     0.2426      0.013     18.311      0.000       0.217       0.269\n",
            "empleo         -0.1288      0.017     -7.753      0.000      -0.161      -0.096\n",
            "-------------------------------------------------------------------------------\n",
            "  ingreso=5       coef    std err          z      P>|z|      [0.025      0.975]\n",
            "-------------------------------------------------------------------------------\n",
            "const          -3.3219      0.216    -15.411      0.000      -3.744      -2.899\n",
            "color           0.2443      0.027      8.954      0.000       0.191       0.298\n",
            "escolaridad     0.3656      0.014     25.902      0.000       0.338       0.393\n",
            "empleo         -0.1268      0.020     -6.338      0.000      -0.166      -0.088\n",
            "-------------------------------------------------------------------------------\n",
            "  ingreso=6       coef    std err          z      P>|z|      [0.025      0.975]\n",
            "-------------------------------------------------------------------------------\n",
            "const          -5.7347      0.310    -18.526      0.000      -6.341      -5.128\n",
            "color           0.3161      0.038      8.317      0.000       0.242       0.391\n",
            "escolaridad     0.4984      0.017     28.726      0.000       0.464       0.532\n",
            "empleo         -0.1459      0.030     -4.883      0.000      -0.204      -0.087\n",
            "-------------------------------------------------------------------------------\n",
            "  ingreso=7       coef    std err          z      P>|z|      [0.025      0.975]\n",
            "-------------------------------------------------------------------------------\n",
            "const          -8.4411      0.562    -15.019      0.000      -9.543      -7.340\n",
            "color           0.3755      0.065      5.738      0.000       0.247       0.504\n",
            "escolaridad     0.6052      0.030     20.427      0.000       0.547       0.663\n",
            "empleo         -0.1437      0.055     -2.615      0.009      -0.251      -0.036\n",
            "===============================================================================\n"
          ],
          "name": "stdout"
        }
      ]
    },
    {
      "cell_type": "code",
      "metadata": {
        "id": "IGMFpS6yB8dz",
        "colab_type": "code",
        "colab": {
          "base_uri": "https://localhost:8080/",
          "height": 833
        },
        "outputId": "1a272bc3-c407-4ebd-9238-93716324d05f"
      },
      "source": [
        "# Efectos Marginnales:\n",
        "mdl_margeff = mdl_fit.get_margeff()\n",
        "print(mdl_margeff.summary())"
      ],
      "execution_count": 19,
      "outputs": [
        {
          "output_type": "stream",
          "text": [
            "       MNLogit Marginal Effects      \n",
            "=====================================\n",
            "Dep. Variable:                ingreso\n",
            "Method:                          dydx\n",
            "At:                           overall\n",
            "===============================================================================\n",
            "  ingreso=1      dy/dx    std err          z      P>|z|      [0.025      0.975]\n",
            "-------------------------------------------------------------------------------\n",
            "color          -0.0105      0.003     -3.795      0.000      -0.016      -0.005\n",
            "escolaridad    -0.0032      0.001     -2.708      0.007      -0.006      -0.001\n",
            "empleo          0.0163      0.002      8.184      0.000       0.012       0.020\n",
            "-------------------------------------------------------------------------------\n",
            "  ingreso=2      dy/dx    std err          z      P>|z|      [0.025      0.975]\n",
            "-------------------------------------------------------------------------------\n",
            "color          -0.0032      0.002     -1.529      0.126      -0.007       0.001\n",
            "escolaridad    -0.0155      0.001    -14.254      0.000      -0.018      -0.013\n",
            "empleo          0.0071      0.001      4.843      0.000       0.004       0.010\n",
            "-------------------------------------------------------------------------------\n",
            "  ingreso=3      dy/dx    std err          z      P>|z|      [0.025      0.975]\n",
            "-------------------------------------------------------------------------------\n",
            "color          -0.0094      0.003     -3.497      0.000      -0.015      -0.004\n",
            "escolaridad    -0.0128      0.001    -10.630      0.000      -0.015      -0.010\n",
            "empleo         -0.0068      0.002     -3.384      0.001      -0.011      -0.003\n",
            "-------------------------------------------------------------------------------\n",
            "  ingreso=4      dy/dx    std err          z      P>|z|      [0.025      0.975]\n",
            "-------------------------------------------------------------------------------\n",
            "color           0.0025      0.003      0.945      0.345      -0.003       0.008\n",
            "escolaridad     0.0031      0.001      2.952      0.003       0.001       0.005\n",
            "empleo         -0.0092      0.002     -4.677      0.000      -0.013      -0.005\n",
            "-------------------------------------------------------------------------------\n",
            "  ingreso=5      dy/dx    std err          z      P>|z|      [0.025      0.975]\n",
            "-------------------------------------------------------------------------------\n",
            "color           0.0116      0.002      5.425      0.000       0.007       0.016\n",
            "escolaridad     0.0139      0.001     17.990      0.000       0.012       0.015\n",
            "empleo         -0.0045      0.002     -2.770      0.006      -0.008      -0.001\n",
            "-------------------------------------------------------------------------------\n",
            "  ingreso=6      dy/dx    std err          z      P>|z|      [0.025      0.975]\n",
            "-------------------------------------------------------------------------------\n",
            "color           0.0068      0.001      4.846      0.000       0.004       0.010\n",
            "escolaridad     0.0106      0.001     18.289      0.000       0.010       0.012\n",
            "empleo         -0.0024      0.001     -2.117      0.034      -0.005      -0.000\n",
            "-------------------------------------------------------------------------------\n",
            "  ingreso=7      dy/dx    std err          z      P>|z|      [0.025      0.975]\n",
            "-------------------------------------------------------------------------------\n",
            "color           0.0023      0.001      3.092      0.002       0.001       0.004\n",
            "escolaridad     0.0040      0.000      9.848      0.000       0.003       0.005\n",
            "empleo         -0.0006      0.001     -0.918      0.359      -0.002       0.001\n",
            "===============================================================================\n"
          ],
          "name": "stdout"
        }
      ]
    },
    {
      "cell_type": "markdown",
      "metadata": {
        "id": "eEiIbX0QCw5x",
        "colab_type": "text"
      },
      "source": [
        "EMPLEO"
      ]
    },
    {
      "cell_type": "code",
      "metadata": {
        "id": "gE_Wib_6ChGh",
        "colab_type": "code",
        "colab": {
          "base_uri": "https://localhost:8080/",
          "height": 68
        },
        "outputId": "6b8664c3-c170-4996-b488-e4e585b27485"
      },
      "source": [
        "X = emovi_1[['color', 'rururb', 'sexo','escolaridad']]\n",
        "X = sm.add_constant(X)\n",
        "Y = emovi_1['empleo']\n",
        "mdl = sm.MNLogit(Y, X)\n",
        "mdl_fit = mdl.fit()"
      ],
      "execution_count": 40,
      "outputs": [
        {
          "output_type": "stream",
          "text": [
            "Optimization terminated successfully.\n",
            "         Current function value: 1.067294\n",
            "         Iterations 8\n"
          ],
          "name": "stdout"
        }
      ]
    },
    {
      "cell_type": "code",
      "metadata": {
        "id": "QTeBnEjVEF-Q",
        "colab_type": "code",
        "colab": {
          "base_uri": "https://localhost:8080/",
          "height": 867
        },
        "outputId": "9cc00a3e-dbb0-4915-9f9b-9f803ed14057"
      },
      "source": [
        "# Imprimiendo Resultados:\n",
        "print(mdl_fit.summary())"
      ],
      "execution_count": 41,
      "outputs": [
        {
          "output_type": "stream",
          "text": [
            "                          MNLogit Regression Results                          \n",
            "==============================================================================\n",
            "Dep. Variable:                 empleo   No. Observations:                12370\n",
            "Model:                        MNLogit   Df Residuals:                    12345\n",
            "Method:                           MLE   Df Model:                           20\n",
            "Date:                Fri, 12 Jun 2020   Pseudo R-squ.:                 0.08655\n",
            "Time:                        01:11:04   Log-Likelihood:                -13202.\n",
            "converged:                       True   LL-Null:                       -14453.\n",
            "Covariance Type:            nonrobust   LLR p-value:                     0.000\n",
            "===============================================================================\n",
            "   empleo=2       coef    std err          z      P>|z|      [0.025      0.975]\n",
            "-------------------------------------------------------------------------------\n",
            "const          -4.8228      0.270    -17.888      0.000      -5.351      -4.294\n",
            "color           0.0229      0.031      0.733      0.464      -0.038       0.084\n",
            "rururb          0.2658      0.174      1.524      0.128      -0.076       0.608\n",
            "sexo            0.2549      0.081      3.145      0.002       0.096       0.414\n",
            "escolaridad     0.2887      0.013     22.842      0.000       0.264       0.313\n",
            "-------------------------------------------------------------------------------\n",
            "   empleo=3       coef    std err          z      P>|z|      [0.025      0.975]\n",
            "-------------------------------------------------------------------------------\n",
            "const           1.7145      0.236      7.272      0.000       1.252       2.177\n",
            "color          -0.0990      0.029     -3.431      0.001      -0.156      -0.042\n",
            "rururb          1.0895      0.101     10.767      0.000       0.891       1.288\n",
            "sexo           -1.4748      0.089    -16.621      0.000      -1.649      -1.301\n",
            "escolaridad    -0.3269      0.020    -16.539      0.000      -0.366      -0.288\n",
            "-------------------------------------------------------------------------------\n",
            "   empleo=4       coef    std err          z      P>|z|      [0.025      0.975]\n",
            "-------------------------------------------------------------------------------\n",
            "const          -3.7983      0.569     -6.678      0.000      -4.913      -2.683\n",
            "color           0.0013      0.070      0.018      0.985      -0.135       0.138\n",
            "rururb          0.5102      0.301      1.696      0.090      -0.079       1.100\n",
            "sexo           -0.3641      0.182     -1.996      0.046      -0.722      -0.007\n",
            "escolaridad     0.0429      0.029      1.501      0.133      -0.013       0.099\n",
            "-------------------------------------------------------------------------------\n",
            "   empleo=5       coef    std err          z      P>|z|      [0.025      0.975]\n",
            "-------------------------------------------------------------------------------\n",
            "const           0.2821      0.143      1.978      0.048       0.003       0.562\n",
            "color          -0.0375      0.017     -2.179      0.029      -0.071      -0.004\n",
            "rururb          0.6094      0.071      8.587      0.000       0.470       0.748\n",
            "sexo           -0.0367      0.046     -0.796      0.426      -0.127       0.054\n",
            "escolaridad    -0.2094      0.009    -22.200      0.000      -0.228      -0.191\n",
            "-------------------------------------------------------------------------------\n",
            "   empleo=6       coef    std err          z      P>|z|      [0.025      0.975]\n",
            "-------------------------------------------------------------------------------\n",
            "const          -0.4823      0.286     -1.688      0.091      -1.042       0.078\n",
            "color          -0.1061      0.035     -3.004      0.003      -0.175      -0.037\n",
            "rururb          1.1051      0.124      8.904      0.000       0.862       1.348\n",
            "sexo           -0.6824      0.098     -6.939      0.000      -0.875      -0.490\n",
            "escolaridad    -0.1350      0.019     -7.084      0.000      -0.172      -0.098\n",
            "===============================================================================\n"
          ],
          "name": "stdout"
        }
      ]
    },
    {
      "cell_type": "code",
      "metadata": {
        "id": "6vkJc_9IFHdz",
        "colab_type": "code",
        "colab": {
          "base_uri": "https://localhost:8080/",
          "height": 833
        },
        "outputId": "47436db5-0399-4029-833b-0ab792007a2d"
      },
      "source": [
        "# Efectos Marginnales:\n",
        "mdl_margeff = mdl_fit.get_margeff()\n",
        "print(mdl_margeff.summary())"
      ],
      "execution_count": 42,
      "outputs": [
        {
          "output_type": "stream",
          "text": [
            "       MNLogit Marginal Effects      \n",
            "=====================================\n",
            "Dep. Variable:                 empleo\n",
            "Method:                          dydx\n",
            "At:                           overall\n",
            "===============================================================================\n",
            "   empleo=1      dy/dx    std err          z      P>|z|      [0.025      0.975]\n",
            "-------------------------------------------------------------------------------\n",
            "color           0.0093      0.003      2.809      0.005       0.003       0.016\n",
            "rururb         -0.1511      0.015    -10.299      0.000      -0.180      -0.122\n",
            "sexo            0.0565      0.009      6.473      0.000       0.039       0.074\n",
            "escolaridad     0.0287      0.002     18.229      0.000       0.026       0.032\n",
            "-------------------------------------------------------------------------------\n",
            "   empleo=2      dy/dx    std err          z      P>|z|      [0.025      0.975]\n",
            "-------------------------------------------------------------------------------\n",
            "color           0.0018      0.002      1.120      0.263      -0.001       0.005\n",
            "rururb          0.0052      0.009      0.574      0.566      -0.012       0.023\n",
            "sexo            0.0172      0.004      4.113      0.000       0.009       0.025\n",
            "escolaridad     0.0176      0.001     24.756      0.000       0.016       0.019\n",
            "-------------------------------------------------------------------------------\n",
            "   empleo=3      dy/dx    std err          z      P>|z|      [0.025      0.975]\n",
            "-------------------------------------------------------------------------------\n",
            "color          -0.0044      0.002     -2.874      0.004      -0.007      -0.001\n",
            "rururb          0.0438      0.005      8.525      0.000       0.034       0.054\n",
            "sexo           -0.0773      0.005    -15.509      0.000      -0.087      -0.068\n",
            "escolaridad    -0.0140      0.001    -13.170      0.000      -0.016      -0.012\n",
            "-------------------------------------------------------------------------------\n",
            "   empleo=4      dy/dx    std err          z      P>|z|      [0.025      0.975]\n",
            "-------------------------------------------------------------------------------\n",
            "color           0.0002      0.001      0.248      0.805      -0.001       0.002\n",
            "rururb          0.0026      0.003      0.863      0.388      -0.003       0.008\n",
            "sexo           -0.0027      0.002     -1.494      0.135      -0.006       0.001\n",
            "escolaridad     0.0009      0.000      3.538      0.000       0.000       0.001\n",
            "-------------------------------------------------------------------------------\n",
            "   empleo=5      dy/dx    std err          z      P>|z|      [0.025      0.975]\n",
            "-------------------------------------------------------------------------------\n",
            "color          -0.0038      0.003     -1.334      0.182      -0.009       0.002\n",
            "rururb          0.0702      0.011      6.308      0.000       0.048       0.092\n",
            "sexo            0.0257      0.007      3.474      0.001       0.011       0.040\n",
            "escolaridad    -0.0311      0.001    -21.389      0.000      -0.034      -0.028\n",
            "-------------------------------------------------------------------------------\n",
            "   empleo=6      dy/dx    std err          z      P>|z|      [0.025      0.975]\n",
            "-------------------------------------------------------------------------------\n",
            "color          -0.0031      0.001     -2.504      0.012      -0.006      -0.001\n",
            "rururb          0.0294      0.004      6.733      0.000       0.021       0.038\n",
            "sexo           -0.0194      0.003     -5.591      0.000      -0.026      -0.013\n",
            "escolaridad    -0.0021      0.001     -3.353      0.001      -0.003      -0.001\n",
            "===============================================================================\n"
          ],
          "name": "stdout"
        }
      ]
    },
    {
      "cell_type": "markdown",
      "metadata": {
        "id": "GoH6SQ-IGdSU",
        "colab_type": "text"
      },
      "source": [
        "ESCOLARIDAD"
      ]
    },
    {
      "cell_type": "code",
      "metadata": {
        "id": "s9yfjK-nGgFj",
        "colab_type": "code",
        "colab": {
          "base_uri": "https://localhost:8080/",
          "height": 68
        },
        "outputId": "59cb46f4-229f-4818-bd67-87bdc4a9c81f"
      },
      "source": [
        "X = emovi_1[['color','sexo','ingreso','region']]\n",
        "X = sm.add_constant(X)\n",
        "Y = emovi_1['escolaridad']\n",
        "mdl = sm.MNLogit(Y, X)\n",
        "mdl_fit = mdl.fit()"
      ],
      "execution_count": 51,
      "outputs": [
        {
          "output_type": "stream",
          "text": [
            "Optimization terminated successfully.\n",
            "         Current function value: 1.899621\n",
            "         Iterations 10\n"
          ],
          "name": "stdout"
        }
      ]
    },
    {
      "cell_type": "code",
      "metadata": {
        "id": "pVKdgmxhG74q",
        "colab_type": "code",
        "colab": {
          "base_uri": "https://localhost:8080/",
          "height": 1000
        },
        "outputId": "fd8b1694-2b86-4edf-a614-6a4527a0980d"
      },
      "source": [
        "# Imprimiendo Resultados:\n",
        "print(mdl_fit.summary())"
      ],
      "execution_count": 52,
      "outputs": [
        {
          "output_type": "stream",
          "text": [
            "                          MNLogit Regression Results                          \n",
            "==============================================================================\n",
            "Dep. Variable:            escolaridad   No. Observations:                12370\n",
            "Model:                        MNLogit   Df Residuals:                    12310\n",
            "Method:                           MLE   Df Model:                           48\n",
            "Date:                Fri, 12 Jun 2020   Pseudo R-squ.:                 0.05448\n",
            "Time:                        01:20:55   Log-Likelihood:                -23498.\n",
            "converged:                       True   LL-Null:                       -24852.\n",
            "Covariance Type:            nonrobust   LLR p-value:                     0.000\n",
            "==================================================================================\n",
            " escolaridad=1       coef    std err          z      P>|z|      [0.025      0.975]\n",
            "----------------------------------------------------------------------------------\n",
            "const             -1.3382      1.720     -0.778      0.437      -4.710       2.033\n",
            "color             -0.0257      0.192     -0.134      0.894      -0.402       0.351\n",
            "sexo               0.0615      0.543      0.113      0.910      -1.003       1.126\n",
            "ingreso           -0.3179      0.252     -1.260      0.208      -0.812       0.177\n",
            "region            -0.3220      0.183     -1.763      0.078      -0.680       0.036\n",
            "----------------------------------------------------------------------------------\n",
            "escolaridad=2       coef    std err          z      P>|z|      [0.025      0.975]\n",
            "---------------------------------------------------------------------------------\n",
            "const             2.0906      0.386      5.410      0.000       1.333       2.848\n",
            "color             0.0388      0.041      0.942      0.346      -0.042       0.120\n",
            "sexo             -0.0212      0.114     -0.186      0.852      -0.245       0.202\n",
            "ingreso           0.2390      0.047      5.052      0.000       0.146       0.332\n",
            "region           -0.2193      0.043     -5.100      0.000      -0.304      -0.135\n",
            "---------------------------------------------------------------------------------\n",
            "escolaridad=3       coef    std err          z      P>|z|      [0.025      0.975]\n",
            "---------------------------------------------------------------------------------\n",
            "const            -0.1622      0.450     -0.361      0.718      -1.044       0.719\n",
            "color             0.0702      0.048      1.453      0.146      -0.024       0.165\n",
            "sexo              0.0490      0.132      0.371      0.711      -0.210       0.308\n",
            "ingreso           0.4282      0.053      8.047      0.000       0.324       0.532\n",
            "region           -0.2299      0.049     -4.702      0.000      -0.326      -0.134\n",
            "---------------------------------------------------------------------------------\n",
            "escolaridad=4       coef    std err          z      P>|z|      [0.025      0.975]\n",
            "---------------------------------------------------------------------------------\n",
            "const             1.3619      0.389      3.498      0.000       0.599       2.125\n",
            "color             0.0616      0.042      1.484      0.138      -0.020       0.143\n",
            "sexo              0.0137      0.115      0.120      0.905      -0.211       0.239\n",
            "ingreso           0.4892      0.047     10.328      0.000       0.396       0.582\n",
            "region           -0.2799      0.043     -6.485      0.000      -0.365      -0.195\n",
            "---------------------------------------------------------------------------------\n",
            "escolaridad=5       coef    std err          z      P>|z|      [0.025      0.975]\n",
            "---------------------------------------------------------------------------------\n",
            "const            -1.5213      0.472     -3.223      0.001      -2.446      -0.596\n",
            "color             0.1410      0.051      2.786      0.005       0.042       0.240\n",
            "sexo             -0.1022      0.136     -0.749      0.454      -0.370       0.165\n",
            "ingreso           0.6847      0.055     12.552      0.000       0.578       0.792\n",
            "region           -0.2030      0.051     -4.008      0.000      -0.302      -0.104\n",
            "---------------------------------------------------------------------------------\n",
            "escolaridad=6       coef    std err          z      P>|z|      [0.025      0.975]\n",
            "---------------------------------------------------------------------------------\n",
            "const            -0.6310      0.408     -1.548      0.122      -1.430       0.168\n",
            "color             0.1788      0.043      4.112      0.000       0.094       0.264\n",
            "sexo             -0.3365      0.119     -2.836      0.005      -0.569      -0.104\n",
            "ingreso           0.7233      0.049     14.839      0.000       0.628       0.819\n",
            "region           -0.1418      0.045     -3.170      0.002      -0.229      -0.054\n",
            "---------------------------------------------------------------------------------\n",
            "escolaridad=7       coef    std err          z      P>|z|      [0.025      0.975]\n",
            "---------------------------------------------------------------------------------\n",
            "const            -4.6355      0.698     -6.639      0.000      -6.004      -3.267\n",
            "color             0.1348      0.072      1.876      0.061      -0.006       0.276\n",
            "sexo              0.9993      0.212      4.713      0.000       0.584       1.415\n",
            "ingreso           0.7819      0.073     10.765      0.000       0.640       0.924\n",
            "region           -0.2909      0.068     -4.259      0.000      -0.425      -0.157\n",
            "---------------------------------------------------------------------------------\n",
            "escolaridad=8       coef    std err          z      P>|z|      [0.025      0.975]\n",
            "---------------------------------------------------------------------------------\n",
            "const            -3.4813      0.560     -6.220      0.000      -4.578      -2.384\n",
            "color             0.1179      0.059      1.995      0.046       0.002       0.234\n",
            "sexo              0.4118      0.162      2.548      0.011       0.095       0.729\n",
            "ingreso           0.8896      0.062     14.320      0.000       0.768       1.011\n",
            "region           -0.2324      0.058     -4.001      0.000      -0.346      -0.119\n",
            "---------------------------------------------------------------------------------\n",
            "escolaridad=9       coef    std err          z      P>|z|      [0.025      0.975]\n",
            "---------------------------------------------------------------------------------\n",
            "const            -5.9990      0.987     -6.078      0.000      -7.933      -4.065\n",
            "color             0.1147      0.101      1.133      0.257      -0.084       0.313\n",
            "sexo              0.7551      0.288      2.617      0.009       0.190       1.321\n",
            "ingreso           0.9700      0.100      9.691      0.000       0.774       1.166\n",
            "region           -0.1865      0.096     -1.934      0.053      -0.376       0.003\n",
            "---------------------------------------------------------------------------------\n",
            "escolaridad=10       coef    std err          z      P>|z|      [0.025      0.975]\n",
            "----------------------------------------------------------------------------------\n",
            "const             -4.4458      0.539     -8.246      0.000      -5.503      -3.389\n",
            "color              0.3020      0.057      5.296      0.000       0.190       0.414\n",
            "sexo              -0.1922      0.150     -1.278      0.201      -0.487       0.103\n",
            "ingreso            1.0684      0.060     17.810      0.000       0.951       1.186\n",
            "region            -0.2178      0.056     -3.915      0.000      -0.327      -0.109\n",
            "----------------------------------------------------------------------------------\n",
            "escolaridad=11       coef    std err          z      P>|z|      [0.025      0.975]\n",
            "----------------------------------------------------------------------------------\n",
            "const             -3.8109      0.435     -8.755      0.000      -4.664      -2.958\n",
            "color              0.3516      0.046      7.644      0.000       0.261       0.442\n",
            "sexo              -0.4242      0.124     -3.422      0.001      -0.667      -0.181\n",
            "ingreso            1.1248      0.051     22.063      0.000       1.025       1.225\n",
            "region            -0.1005      0.047     -2.155      0.031      -0.192      -0.009\n",
            "----------------------------------------------------------------------------------\n",
            "escolaridad=12       coef    std err          z      P>|z|      [0.025      0.975]\n",
            "----------------------------------------------------------------------------------\n",
            "const             -8.3009      0.783    -10.598      0.000      -9.836      -6.766\n",
            "color              0.3382      0.078      4.317      0.000       0.185       0.492\n",
            "sexo              -0.2786      0.206     -1.352      0.176      -0.682       0.125\n",
            "ingreso            1.5889      0.084     18.853      0.000       1.424       1.754\n",
            "region            -0.1410      0.076     -1.853      0.064      -0.290       0.008\n",
            "==================================================================================\n"
          ],
          "name": "stdout"
        }
      ]
    },
    {
      "cell_type": "code",
      "metadata": {
        "id": "9kvOAK3uG4q1",
        "colab_type": "code",
        "colab": {
          "base_uri": "https://localhost:8080/",
          "height": 1000
        },
        "outputId": "99241868-0005-4467-c96e-8c526492ba20"
      },
      "source": [
        "# Efectos Marginnales:\n",
        "mdl_margeff = mdl_fit.get_margeff()\n",
        "print(mdl_margeff.summary())"
      ],
      "execution_count": 53,
      "outputs": [
        {
          "output_type": "stream",
          "text": [
            "       MNLogit Marginal Effects      \n",
            "=====================================\n",
            "Dep. Variable:            escolaridad\n",
            "Method:                          dydx\n",
            "At:                           overall\n",
            "==================================================================================\n",
            " escolaridad=0      dy/dx    std err          z      P>|z|      [0.025      0.975]\n",
            "----------------------------------------------------------------------------------\n",
            "color             -0.0028      0.001     -2.535      0.011      -0.005      -0.001\n",
            "sexo               0.0017      0.003      0.558      0.577      -0.004       0.008\n",
            "ingreso           -0.0141      0.001    -10.656      0.000      -0.017      -0.012\n",
            "region             0.0061      0.001      5.118      0.000       0.004       0.008\n",
            "----------------------------------------------------------------------------------\n",
            "escolaridad=1      dy/dx    std err          z      P>|z|      [0.025      0.975]\n",
            "---------------------------------------------------------------------------------\n",
            "color            -0.0001      0.000     -0.597      0.550      -0.001       0.000\n",
            "sexo              0.0001      0.001      0.205      0.837      -0.001       0.001\n",
            "ingreso          -0.0009      0.000     -2.553      0.011      -0.002      -0.000\n",
            "region           -0.0001      0.000     -0.623      0.533      -0.001       0.000\n",
            "---------------------------------------------------------------------------------\n",
            "escolaridad=2      dy/dx    std err          z      P>|z|      [0.025      0.975]\n",
            "---------------------------------------------------------------------------------\n",
            "color            -0.0165      0.003     -5.788      0.000      -0.022      -0.011\n",
            "sexo              0.0111      0.008      1.456      0.145      -0.004       0.026\n",
            "ingreso          -0.0688      0.003    -26.762      0.000      -0.074      -0.064\n",
            "region           -0.0030      0.003     -1.131      0.258      -0.008       0.002\n",
            "---------------------------------------------------------------------------------\n",
            "escolaridad=3      dy/dx    std err          z      P>|z|      [0.025      0.975]\n",
            "---------------------------------------------------------------------------------\n",
            "color            -0.0026      0.002     -1.618      0.106      -0.006       0.001\n",
            "sexo              0.0073      0.004      1.697      0.090      -0.001       0.016\n",
            "ingreso          -0.0070      0.001     -5.006      0.000      -0.010      -0.004\n",
            "region           -0.0014      0.002     -0.960      0.337      -0.004       0.002\n",
            "---------------------------------------------------------------------------------\n",
            "escolaridad=4      dy/dx    std err          z      P>|z|      [0.025      0.975]\n",
            "---------------------------------------------------------------------------------\n",
            "color            -0.0139      0.003     -4.711      0.000      -0.020      -0.008\n",
            "sexo              0.0226      0.008      2.887      0.004       0.007       0.038\n",
            "ingreso          -0.0168      0.003     -6.600      0.000      -0.022      -0.012\n",
            "region           -0.0187      0.003     -6.819      0.000      -0.024      -0.013\n",
            "---------------------------------------------------------------------------------\n",
            "escolaridad=5      dy/dx    std err          z      P>|z|      [0.025      0.975]\n",
            "---------------------------------------------------------------------------------\n",
            "color             0.0006      0.002      0.397      0.691      -0.002       0.004\n",
            "sexo             -0.0006      0.004     -0.149      0.882      -0.008       0.007\n",
            "ingreso           0.0046      0.001      3.707      0.000       0.002       0.007\n",
            "region        -7.172e-05      0.001     -0.051      0.959      -0.003       0.003\n",
            "---------------------------------------------------------------------------------\n",
            "escolaridad=6      dy/dx    std err          z      P>|z|      [0.025      0.975]\n",
            "---------------------------------------------------------------------------------\n",
            "color             0.0072      0.003      2.853      0.004       0.002       0.012\n",
            "sexo             -0.0375      0.007     -5.761      0.000      -0.050      -0.025\n",
            "ingreso           0.0188      0.002      9.094      0.000       0.015       0.023\n",
            "region            0.0091      0.002      3.849      0.000       0.004       0.014\n",
            "---------------------------------------------------------------------------------\n",
            "escolaridad=7      dy/dx    std err          z      P>|z|      [0.025      0.975]\n",
            "---------------------------------------------------------------------------------\n",
            "color          7.131e-05      0.001      0.086      0.932      -0.002       0.002\n",
            "sexo              0.0154      0.003      5.582      0.000       0.010       0.021\n",
            "ingreso           0.0026      0.001      3.710      0.000       0.001       0.004\n",
            "region           -0.0012      0.001     -1.638      0.102      -0.003       0.000\n",
            "---------------------------------------------------------------------------------\n",
            "escolaridad=8      dy/dx    std err          z      P>|z|      [0.025      0.975]\n",
            "---------------------------------------------------------------------------------\n",
            "color            -0.0005      0.001     -0.461      0.645      -0.003       0.002\n",
            "sexo              0.0131      0.003      4.305      0.000       0.007       0.019\n",
            "ingreso           0.0069      0.001      7.181      0.000       0.005       0.009\n",
            "region           -0.0008      0.001     -0.817      0.414      -0.003       0.001\n",
            "---------------------------------------------------------------------------------\n",
            "escolaridad=9      dy/dx    std err          z      P>|z|      [0.025      0.975]\n",
            "---------------------------------------------------------------------------------\n",
            "color            -0.0001      0.001     -0.282      0.778      -0.001       0.001\n",
            "sexo              0.0049      0.002      3.034      0.002       0.002       0.008\n",
            "ingreso           0.0019      0.000      4.018      0.000       0.001       0.003\n",
            "region         7.437e-05      0.000      0.151      0.880      -0.001       0.001\n",
            "---------------------------------------------------------------------------------\n",
            "escolaridad=10      dy/dx    std err          z      P>|z|      [0.025      0.975]\n",
            "----------------------------------------------------------------------------------\n",
            "color              0.0048      0.001      3.767      0.000       0.002       0.007\n",
            "sexo              -0.0024      0.003     -0.753      0.452      -0.009       0.004\n",
            "ingreso            0.0128      0.001     11.054      0.000       0.011       0.015\n",
            "region            -0.0008      0.001     -0.682      0.495      -0.003       0.001\n",
            "----------------------------------------------------------------------------------\n",
            "escolaridad=11      dy/dx    std err          z      P>|z|      [0.025      0.975]\n",
            "----------------------------------------------------------------------------------\n",
            "color              0.0222      0.002     10.010      0.000       0.018       0.026\n",
            "sexo              -0.0342      0.006     -6.198      0.000      -0.045      -0.023\n",
            "ingreso            0.0506      0.002     25.717      0.000       0.047       0.054\n",
            "region             0.0105      0.002      5.171      0.000       0.007       0.014\n",
            "----------------------------------------------------------------------------------\n",
            "escolaridad=12      dy/dx    std err          z      P>|z|      [0.025      0.975]\n",
            "----------------------------------------------------------------------------------\n",
            "color              0.0017      0.001      2.351      0.019       0.000       0.003\n",
            "sexo              -0.0014      0.002     -0.745      0.457      -0.005       0.002\n",
            "ingreso            0.0094      0.001      9.570      0.000       0.007       0.011\n",
            "region             0.0005      0.001      0.685      0.493      -0.001       0.002\n",
            "==================================================================================\n"
          ],
          "name": "stdout"
        }
      ]
    }
  ]
}