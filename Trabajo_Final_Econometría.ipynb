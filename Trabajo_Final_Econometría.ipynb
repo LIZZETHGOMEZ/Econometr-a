{
  "nbformat": 4,
  "nbformat_minor": 0,
  "metadata": {
    "colab": {
      "name": "Trabajo Final_Econometría.ipynb",
      "provenance": []
    },
    "kernelspec": {
      "name": "python3",
      "display_name": "Python 3"
    }
  },
  "cells": [
    {
      "cell_type": "markdown",
      "metadata": {
        "id": "dCEjzKyjBXfv",
        "colab_type": "text"
      },
      "source": [
        "#ECONOMETRÍA\n",
        "##Trabajo Final\n",
        "* ### Cuenca Fitz Alexis Manuel\n",
        "* ### Gomez Rodríguez Lizzeth\n",
        "* ### Pineda Jocelyn\n",
        "\n"
      ]
    },
    {
      "cell_type": "code",
      "metadata": {
        "id": "7J63cleQB6Lv",
        "colab_type": "code",
        "colab": {}
      },
      "source": [
        ""
      ],
      "execution_count": 0,
      "outputs": []
    }
  ]
}